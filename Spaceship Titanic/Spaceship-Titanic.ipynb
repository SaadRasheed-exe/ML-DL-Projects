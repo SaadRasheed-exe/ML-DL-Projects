{
 "cells": [
  {
   "cell_type": "markdown",
   "metadata": {},
   "source": [
    "# Spaceship Titanic"
   ]
  },
  {
   "cell_type": "markdown",
   "metadata": {},
   "source": [
    "## Imports"
   ]
  },
  {
   "cell_type": "code",
   "execution_count": 1,
   "metadata": {},
   "outputs": [],
   "source": [
    "import pandas as pd\n",
    "import numpy as np\n",
    "import seaborn as sns\n",
    "import matplotlib.pyplot as plt\n",
    "%matplotlib inline\n",
    "\n",
    "from pycaret.classification import setup, compare_models\n",
    "from sklearn.preprocessing import StandardScaler\n",
    "from lightgbm import LGBMClassifier\n",
    "from sklearn.ensemble import RandomForestClassifier, AdaBoostClassifier, GradientBoostingClassifier, ExtraTreesClassifier"
   ]
  },
  {
   "cell_type": "markdown",
   "metadata": {},
   "source": [
    "## Loading Data"
   ]
  },
  {
   "cell_type": "code",
   "execution_count": 2,
   "metadata": {},
   "outputs": [
    {
     "data": {
      "text/html": [
       "<div>\n",
       "<style scoped>\n",
       "    .dataframe tbody tr th:only-of-type {\n",
       "        vertical-align: middle;\n",
       "    }\n",
       "\n",
       "    .dataframe tbody tr th {\n",
       "        vertical-align: top;\n",
       "    }\n",
       "\n",
       "    .dataframe thead th {\n",
       "        text-align: right;\n",
       "    }\n",
       "</style>\n",
       "<table border=\"1\" class=\"dataframe\">\n",
       "  <thead>\n",
       "    <tr style=\"text-align: right;\">\n",
       "      <th></th>\n",
       "      <th>PassengerId</th>\n",
       "      <th>HomePlanet</th>\n",
       "      <th>CryoSleep</th>\n",
       "      <th>Cabin</th>\n",
       "      <th>Destination</th>\n",
       "      <th>Age</th>\n",
       "      <th>VIP</th>\n",
       "      <th>RoomService</th>\n",
       "      <th>FoodCourt</th>\n",
       "      <th>ShoppingMall</th>\n",
       "      <th>Spa</th>\n",
       "      <th>VRDeck</th>\n",
       "      <th>Name</th>\n",
       "      <th>Transported</th>\n",
       "    </tr>\n",
       "  </thead>\n",
       "  <tbody>\n",
       "    <tr>\n",
       "      <th>0</th>\n",
       "      <td>0001_01</td>\n",
       "      <td>Europa</td>\n",
       "      <td>False</td>\n",
       "      <td>B/0/P</td>\n",
       "      <td>TRAPPIST-1e</td>\n",
       "      <td>39.0</td>\n",
       "      <td>False</td>\n",
       "      <td>0.0</td>\n",
       "      <td>0.0</td>\n",
       "      <td>0.0</td>\n",
       "      <td>0.0</td>\n",
       "      <td>0.0</td>\n",
       "      <td>Maham Ofracculy</td>\n",
       "      <td>False</td>\n",
       "    </tr>\n",
       "    <tr>\n",
       "      <th>1</th>\n",
       "      <td>0002_01</td>\n",
       "      <td>Earth</td>\n",
       "      <td>False</td>\n",
       "      <td>F/0/S</td>\n",
       "      <td>TRAPPIST-1e</td>\n",
       "      <td>24.0</td>\n",
       "      <td>False</td>\n",
       "      <td>109.0</td>\n",
       "      <td>9.0</td>\n",
       "      <td>25.0</td>\n",
       "      <td>549.0</td>\n",
       "      <td>44.0</td>\n",
       "      <td>Juanna Vines</td>\n",
       "      <td>True</td>\n",
       "    </tr>\n",
       "    <tr>\n",
       "      <th>2</th>\n",
       "      <td>0003_01</td>\n",
       "      <td>Europa</td>\n",
       "      <td>False</td>\n",
       "      <td>A/0/S</td>\n",
       "      <td>TRAPPIST-1e</td>\n",
       "      <td>58.0</td>\n",
       "      <td>True</td>\n",
       "      <td>43.0</td>\n",
       "      <td>3576.0</td>\n",
       "      <td>0.0</td>\n",
       "      <td>6715.0</td>\n",
       "      <td>49.0</td>\n",
       "      <td>Altark Susent</td>\n",
       "      <td>False</td>\n",
       "    </tr>\n",
       "    <tr>\n",
       "      <th>3</th>\n",
       "      <td>0003_02</td>\n",
       "      <td>Europa</td>\n",
       "      <td>False</td>\n",
       "      <td>A/0/S</td>\n",
       "      <td>TRAPPIST-1e</td>\n",
       "      <td>33.0</td>\n",
       "      <td>False</td>\n",
       "      <td>0.0</td>\n",
       "      <td>1283.0</td>\n",
       "      <td>371.0</td>\n",
       "      <td>3329.0</td>\n",
       "      <td>193.0</td>\n",
       "      <td>Solam Susent</td>\n",
       "      <td>False</td>\n",
       "    </tr>\n",
       "    <tr>\n",
       "      <th>4</th>\n",
       "      <td>0004_01</td>\n",
       "      <td>Earth</td>\n",
       "      <td>False</td>\n",
       "      <td>F/1/S</td>\n",
       "      <td>TRAPPIST-1e</td>\n",
       "      <td>16.0</td>\n",
       "      <td>False</td>\n",
       "      <td>303.0</td>\n",
       "      <td>70.0</td>\n",
       "      <td>151.0</td>\n",
       "      <td>565.0</td>\n",
       "      <td>2.0</td>\n",
       "      <td>Willy Santantines</td>\n",
       "      <td>True</td>\n",
       "    </tr>\n",
       "  </tbody>\n",
       "</table>\n",
       "</div>"
      ],
      "text/plain": [
       "  PassengerId HomePlanet CryoSleep  Cabin  Destination   Age    VIP  \\\n",
       "0     0001_01     Europa     False  B/0/P  TRAPPIST-1e  39.0  False   \n",
       "1     0002_01      Earth     False  F/0/S  TRAPPIST-1e  24.0  False   \n",
       "2     0003_01     Europa     False  A/0/S  TRAPPIST-1e  58.0   True   \n",
       "3     0003_02     Europa     False  A/0/S  TRAPPIST-1e  33.0  False   \n",
       "4     0004_01      Earth     False  F/1/S  TRAPPIST-1e  16.0  False   \n",
       "\n",
       "   RoomService  FoodCourt  ShoppingMall     Spa  VRDeck               Name  \\\n",
       "0          0.0        0.0           0.0     0.0     0.0    Maham Ofracculy   \n",
       "1        109.0        9.0          25.0   549.0    44.0       Juanna Vines   \n",
       "2         43.0     3576.0           0.0  6715.0    49.0      Altark Susent   \n",
       "3          0.0     1283.0         371.0  3329.0   193.0       Solam Susent   \n",
       "4        303.0       70.0         151.0   565.0     2.0  Willy Santantines   \n",
       "\n",
       "   Transported  \n",
       "0        False  \n",
       "1         True  \n",
       "2        False  \n",
       "3        False  \n",
       "4         True  "
      ]
     },
     "execution_count": 2,
     "metadata": {},
     "output_type": "execute_result"
    }
   ],
   "source": [
    "train0 = pd.read_csv('train.csv')\n",
    "train0.head()"
   ]
  },
  {
   "cell_type": "code",
   "execution_count": 3,
   "metadata": {},
   "outputs": [
    {
     "data": {
      "text/html": [
       "<div>\n",
       "<style scoped>\n",
       "    .dataframe tbody tr th:only-of-type {\n",
       "        vertical-align: middle;\n",
       "    }\n",
       "\n",
       "    .dataframe tbody tr th {\n",
       "        vertical-align: top;\n",
       "    }\n",
       "\n",
       "    .dataframe thead th {\n",
       "        text-align: right;\n",
       "    }\n",
       "</style>\n",
       "<table border=\"1\" class=\"dataframe\">\n",
       "  <thead>\n",
       "    <tr style=\"text-align: right;\">\n",
       "      <th></th>\n",
       "      <th>PassengerId</th>\n",
       "      <th>HomePlanet</th>\n",
       "      <th>CryoSleep</th>\n",
       "      <th>Cabin</th>\n",
       "      <th>Destination</th>\n",
       "      <th>Age</th>\n",
       "      <th>VIP</th>\n",
       "      <th>RoomService</th>\n",
       "      <th>FoodCourt</th>\n",
       "      <th>ShoppingMall</th>\n",
       "      <th>Spa</th>\n",
       "      <th>VRDeck</th>\n",
       "      <th>Name</th>\n",
       "    </tr>\n",
       "  </thead>\n",
       "  <tbody>\n",
       "    <tr>\n",
       "      <th>0</th>\n",
       "      <td>0013_01</td>\n",
       "      <td>Earth</td>\n",
       "      <td>True</td>\n",
       "      <td>G/3/S</td>\n",
       "      <td>TRAPPIST-1e</td>\n",
       "      <td>27.0</td>\n",
       "      <td>False</td>\n",
       "      <td>0.0</td>\n",
       "      <td>0.0</td>\n",
       "      <td>0.0</td>\n",
       "      <td>0.0</td>\n",
       "      <td>0.0</td>\n",
       "      <td>Nelly Carsoning</td>\n",
       "    </tr>\n",
       "    <tr>\n",
       "      <th>1</th>\n",
       "      <td>0018_01</td>\n",
       "      <td>Earth</td>\n",
       "      <td>False</td>\n",
       "      <td>F/4/S</td>\n",
       "      <td>TRAPPIST-1e</td>\n",
       "      <td>19.0</td>\n",
       "      <td>False</td>\n",
       "      <td>0.0</td>\n",
       "      <td>9.0</td>\n",
       "      <td>0.0</td>\n",
       "      <td>2823.0</td>\n",
       "      <td>0.0</td>\n",
       "      <td>Lerome Peckers</td>\n",
       "    </tr>\n",
       "    <tr>\n",
       "      <th>2</th>\n",
       "      <td>0019_01</td>\n",
       "      <td>Europa</td>\n",
       "      <td>True</td>\n",
       "      <td>C/0/S</td>\n",
       "      <td>55 Cancri e</td>\n",
       "      <td>31.0</td>\n",
       "      <td>False</td>\n",
       "      <td>0.0</td>\n",
       "      <td>0.0</td>\n",
       "      <td>0.0</td>\n",
       "      <td>0.0</td>\n",
       "      <td>0.0</td>\n",
       "      <td>Sabih Unhearfus</td>\n",
       "    </tr>\n",
       "    <tr>\n",
       "      <th>3</th>\n",
       "      <td>0021_01</td>\n",
       "      <td>Europa</td>\n",
       "      <td>False</td>\n",
       "      <td>C/1/S</td>\n",
       "      <td>TRAPPIST-1e</td>\n",
       "      <td>38.0</td>\n",
       "      <td>False</td>\n",
       "      <td>0.0</td>\n",
       "      <td>6652.0</td>\n",
       "      <td>0.0</td>\n",
       "      <td>181.0</td>\n",
       "      <td>585.0</td>\n",
       "      <td>Meratz Caltilter</td>\n",
       "    </tr>\n",
       "    <tr>\n",
       "      <th>4</th>\n",
       "      <td>0023_01</td>\n",
       "      <td>Earth</td>\n",
       "      <td>False</td>\n",
       "      <td>F/5/S</td>\n",
       "      <td>TRAPPIST-1e</td>\n",
       "      <td>20.0</td>\n",
       "      <td>False</td>\n",
       "      <td>10.0</td>\n",
       "      <td>0.0</td>\n",
       "      <td>635.0</td>\n",
       "      <td>0.0</td>\n",
       "      <td>0.0</td>\n",
       "      <td>Brence Harperez</td>\n",
       "    </tr>\n",
       "  </tbody>\n",
       "</table>\n",
       "</div>"
      ],
      "text/plain": [
       "  PassengerId HomePlanet CryoSleep  Cabin  Destination   Age    VIP  \\\n",
       "0     0013_01      Earth      True  G/3/S  TRAPPIST-1e  27.0  False   \n",
       "1     0018_01      Earth     False  F/4/S  TRAPPIST-1e  19.0  False   \n",
       "2     0019_01     Europa      True  C/0/S  55 Cancri e  31.0  False   \n",
       "3     0021_01     Europa     False  C/1/S  TRAPPIST-1e  38.0  False   \n",
       "4     0023_01      Earth     False  F/5/S  TRAPPIST-1e  20.0  False   \n",
       "\n",
       "   RoomService  FoodCourt  ShoppingMall     Spa  VRDeck              Name  \n",
       "0          0.0        0.0           0.0     0.0     0.0   Nelly Carsoning  \n",
       "1          0.0        9.0           0.0  2823.0     0.0    Lerome Peckers  \n",
       "2          0.0        0.0           0.0     0.0     0.0   Sabih Unhearfus  \n",
       "3          0.0     6652.0           0.0   181.0   585.0  Meratz Caltilter  \n",
       "4         10.0        0.0         635.0     0.0     0.0   Brence Harperez  "
      ]
     },
     "execution_count": 3,
     "metadata": {},
     "output_type": "execute_result"
    }
   ],
   "source": [
    "test0 = pd.read_csv('test.csv')\n",
    "test0.head()"
   ]
  },
  {
   "cell_type": "markdown",
   "metadata": {},
   "source": [
    "### Combining Test and Train Data"
   ]
  },
  {
   "cell_type": "code",
   "execution_count": 4,
   "metadata": {},
   "outputs": [
    {
     "data": {
      "text/plain": [
       "0       False\n",
       "1        True\n",
       "2       False\n",
       "3       False\n",
       "4        True\n",
       "        ...  \n",
       "8688    False\n",
       "8689    False\n",
       "8690     True\n",
       "8691    False\n",
       "8692     True\n",
       "Name: Transported, Length: 8693, dtype: bool"
      ]
     },
     "execution_count": 4,
     "metadata": {},
     "output_type": "execute_result"
    }
   ],
   "source": [
    "target0 = train0['Transported']\n",
    "target0"
   ]
  },
  {
   "cell_type": "code",
   "execution_count": 5,
   "metadata": {},
   "outputs": [],
   "source": [
    "train0.drop('Transported', axis=1, inplace=True)"
   ]
  },
  {
   "cell_type": "code",
   "execution_count": 6,
   "metadata": {},
   "outputs": [
    {
     "data": {
      "text/html": [
       "<div>\n",
       "<style scoped>\n",
       "    .dataframe tbody tr th:only-of-type {\n",
       "        vertical-align: middle;\n",
       "    }\n",
       "\n",
       "    .dataframe tbody tr th {\n",
       "        vertical-align: top;\n",
       "    }\n",
       "\n",
       "    .dataframe thead th {\n",
       "        text-align: right;\n",
       "    }\n",
       "</style>\n",
       "<table border=\"1\" class=\"dataframe\">\n",
       "  <thead>\n",
       "    <tr style=\"text-align: right;\">\n",
       "      <th></th>\n",
       "      <th>PassengerId</th>\n",
       "      <th>HomePlanet</th>\n",
       "      <th>CryoSleep</th>\n",
       "      <th>Cabin</th>\n",
       "      <th>Destination</th>\n",
       "      <th>Age</th>\n",
       "      <th>VIP</th>\n",
       "      <th>RoomService</th>\n",
       "      <th>FoodCourt</th>\n",
       "      <th>ShoppingMall</th>\n",
       "      <th>Spa</th>\n",
       "      <th>VRDeck</th>\n",
       "      <th>Name</th>\n",
       "    </tr>\n",
       "  </thead>\n",
       "  <tbody>\n",
       "    <tr>\n",
       "      <th>0</th>\n",
       "      <td>0001_01</td>\n",
       "      <td>Europa</td>\n",
       "      <td>False</td>\n",
       "      <td>B/0/P</td>\n",
       "      <td>TRAPPIST-1e</td>\n",
       "      <td>39.0</td>\n",
       "      <td>False</td>\n",
       "      <td>0.0</td>\n",
       "      <td>0.0</td>\n",
       "      <td>0.0</td>\n",
       "      <td>0.0</td>\n",
       "      <td>0.0</td>\n",
       "      <td>Maham Ofracculy</td>\n",
       "    </tr>\n",
       "    <tr>\n",
       "      <th>1</th>\n",
       "      <td>0002_01</td>\n",
       "      <td>Earth</td>\n",
       "      <td>False</td>\n",
       "      <td>F/0/S</td>\n",
       "      <td>TRAPPIST-1e</td>\n",
       "      <td>24.0</td>\n",
       "      <td>False</td>\n",
       "      <td>109.0</td>\n",
       "      <td>9.0</td>\n",
       "      <td>25.0</td>\n",
       "      <td>549.0</td>\n",
       "      <td>44.0</td>\n",
       "      <td>Juanna Vines</td>\n",
       "    </tr>\n",
       "    <tr>\n",
       "      <th>2</th>\n",
       "      <td>0003_01</td>\n",
       "      <td>Europa</td>\n",
       "      <td>False</td>\n",
       "      <td>A/0/S</td>\n",
       "      <td>TRAPPIST-1e</td>\n",
       "      <td>58.0</td>\n",
       "      <td>True</td>\n",
       "      <td>43.0</td>\n",
       "      <td>3576.0</td>\n",
       "      <td>0.0</td>\n",
       "      <td>6715.0</td>\n",
       "      <td>49.0</td>\n",
       "      <td>Altark Susent</td>\n",
       "    </tr>\n",
       "    <tr>\n",
       "      <th>3</th>\n",
       "      <td>0003_02</td>\n",
       "      <td>Europa</td>\n",
       "      <td>False</td>\n",
       "      <td>A/0/S</td>\n",
       "      <td>TRAPPIST-1e</td>\n",
       "      <td>33.0</td>\n",
       "      <td>False</td>\n",
       "      <td>0.0</td>\n",
       "      <td>1283.0</td>\n",
       "      <td>371.0</td>\n",
       "      <td>3329.0</td>\n",
       "      <td>193.0</td>\n",
       "      <td>Solam Susent</td>\n",
       "    </tr>\n",
       "    <tr>\n",
       "      <th>4</th>\n",
       "      <td>0004_01</td>\n",
       "      <td>Earth</td>\n",
       "      <td>False</td>\n",
       "      <td>F/1/S</td>\n",
       "      <td>TRAPPIST-1e</td>\n",
       "      <td>16.0</td>\n",
       "      <td>False</td>\n",
       "      <td>303.0</td>\n",
       "      <td>70.0</td>\n",
       "      <td>151.0</td>\n",
       "      <td>565.0</td>\n",
       "      <td>2.0</td>\n",
       "      <td>Willy Santantines</td>\n",
       "    </tr>\n",
       "  </tbody>\n",
       "</table>\n",
       "</div>"
      ],
      "text/plain": [
       "  PassengerId HomePlanet CryoSleep  Cabin  Destination   Age    VIP  \\\n",
       "0     0001_01     Europa     False  B/0/P  TRAPPIST-1e  39.0  False   \n",
       "1     0002_01      Earth     False  F/0/S  TRAPPIST-1e  24.0  False   \n",
       "2     0003_01     Europa     False  A/0/S  TRAPPIST-1e  58.0   True   \n",
       "3     0003_02     Europa     False  A/0/S  TRAPPIST-1e  33.0  False   \n",
       "4     0004_01      Earth     False  F/1/S  TRAPPIST-1e  16.0  False   \n",
       "\n",
       "   RoomService  FoodCourt  ShoppingMall     Spa  VRDeck               Name  \n",
       "0          0.0        0.0           0.0     0.0     0.0    Maham Ofracculy  \n",
       "1        109.0        9.0          25.0   549.0    44.0       Juanna Vines  \n",
       "2         43.0     3576.0           0.0  6715.0    49.0      Altark Susent  \n",
       "3          0.0     1283.0         371.0  3329.0   193.0       Solam Susent  \n",
       "4        303.0       70.0         151.0   565.0     2.0  Willy Santantines  "
      ]
     },
     "execution_count": 6,
     "metadata": {},
     "output_type": "execute_result"
    }
   ],
   "source": [
    "data0 = pd.concat([train0, test0], axis=0, ignore_index=True)\n",
    "data0.head()"
   ]
  },
  {
   "cell_type": "code",
   "execution_count": 7,
   "metadata": {},
   "outputs": [],
   "source": [
    "data1 = data0.copy()"
   ]
  },
  {
   "cell_type": "markdown",
   "metadata": {},
   "source": [
    "## Cleaning Data"
   ]
  },
  {
   "cell_type": "code",
   "execution_count": 8,
   "metadata": {},
   "outputs": [
    {
     "data": {
      "text/plain": [
       "<AxesSubplot:>"
      ]
     },
     "execution_count": 8,
     "metadata": {},
     "output_type": "execute_result"
    },
    {
     "data": {
      "image/png": "[encoded data removed]",
      "text/plain": [
       "<Figure size 720x432 with 1 Axes>"
      ]
     },
     "metadata": {},
     "output_type": "display_data"
    }
   ],
   "source": [
    "plt.figure(figsize=(10, 6))\n",
    "sns.heatmap(data=data1.isnull(), yticklabels=False, cmap='viridis', cbar=False)"
   ]
  },
  {
   "cell_type": "code",
   "execution_count": 9,
   "metadata": {},
   "outputs": [],
   "source": [
    "# data1['VIP'] = data1['VIP'].astype(bool)"
   ]
  },
  {
   "cell_type": "markdown",
   "metadata": {},
   "source": [
    "### Seperating PassengerID into GroupNum and PassengerNum"
   ]
  },
  {
   "cell_type": "code",
   "execution_count": 10,
   "metadata": {},
   "outputs": [],
   "source": [
    "def groupnum(string):\n",
    "    return string[:4]\n",
    "\n",
    "def passengernum(string):\n",
    "    return string[5:]"
   ]
  },
  {
   "cell_type": "code",
   "execution_count": 11,
   "metadata": {},
   "outputs": [],
   "source": [
    "data1['GroupNum'] = data1['PassengerId'].apply(groupnum).astype(np.int)\n",
    "data1['PassengerNum'] = data1['PassengerId'].apply(passengernum).astype(np.int)"
   ]
  },
  {
   "cell_type": "code",
   "execution_count": 12,
   "metadata": {},
   "outputs": [],
   "source": [
    "data1.drop('PassengerId', axis=1, inplace=True)"
   ]
  },
  {
   "cell_type": "code",
   "execution_count": 13,
   "metadata": {},
   "outputs": [],
   "source": [
    "data1 = data1[['GroupNum', 'PassengerNum', 'HomePlanet', 'CryoSleep', 'Cabin', 'Destination', 'Age', 'VIP', 'RoomService', 'FoodCourt', 'ShoppingMall', 'Spa', 'VRDeck', 'Name']]"
   ]
  },
  {
   "cell_type": "markdown",
   "metadata": {},
   "source": [
    "### Missing HomePlanets"
   ]
  },
  {
   "cell_type": "code",
   "execution_count": 14,
   "metadata": {},
   "outputs": [],
   "source": [
    "for entry in data1.loc[data1['HomePlanet'].isna(), 'GroupNum']:\n",
    "    if len(data1.loc[(data1['HomePlanet'].notna()) & (data1['GroupNum'] == entry), 'GroupNum']) > 0:\n",
    "        data1.loc[(data1['HomePlanet'].isna()) & (data1['GroupNum'] == entry), 'HomePlanet'] = data1.loc[(data1['HomePlanet'].notna()) & (data1['GroupNum'] == entry), 'HomePlanet'].iloc[0]"
   ]
  },
  {
   "cell_type": "code",
   "execution_count": 15,
   "metadata": {},
   "outputs": [],
   "source": [
    "data1.loc[data1['HomePlanet'].isna(), 'HomePlanet'] = data1['HomePlanet'].mode()[0]"
   ]
  },
  {
   "cell_type": "code",
   "execution_count": 16,
   "metadata": {},
   "outputs": [
    {
     "data": {
      "text/plain": [
       "<AxesSubplot:>"
      ]
     },
     "execution_count": 16,
     "metadata": {},
     "output_type": "execute_result"
    },
    {
     "data": {
      "image/png": "[encoded data removed]",
      "text/plain": [
       "<Figure size 720x432 with 1 Axes>"
      ]
     },
     "metadata": {},
     "output_type": "display_data"
    }
   ],
   "source": [
    "plt.figure(figsize=(10, 6))\n",
    "sns.heatmap(data=data1.isnull(), yticklabels=False, cmap='viridis', cbar=False)"
   ]
  },
  {
   "cell_type": "code",
   "execution_count": 17,
   "metadata": {},
   "outputs": [],
   "source": [
    "data2 = data1.copy()"
   ]
  },
  {
   "cell_type": "markdown",
   "metadata": {},
   "source": [
    "### Seperating Cabin to Deck, Num and Side"
   ]
  },
  {
   "cell_type": "code",
   "execution_count": 18,
   "metadata": {},
   "outputs": [],
   "source": [
    "def cabinDeck(string):\n",
    "    if string == np.nan:\n",
    "        return None\n",
    "    else:\n",
    "        string = str(string).split(sep='/')\n",
    "        if len(string) > 1:\n",
    "            return string[0]\n",
    "\n",
    "def cabinNum(string):\n",
    "    if string == np.nan:\n",
    "        return None\n",
    "    else:\n",
    "        string = str(string).split(sep='/')\n",
    "        if len(string) > 1:\n",
    "            return string[1]\n",
    "\n",
    "def cabinSide(string):\n",
    "    if string == np.nan:\n",
    "        return None\n",
    "    else:\n",
    "        string = str(string).split(sep='/')\n",
    "        if len(string) > 1:\n",
    "            return string[2]"
   ]
  },
  {
   "cell_type": "code",
   "execution_count": 19,
   "metadata": {},
   "outputs": [],
   "source": [
    "data2['CabinDeck'] = data2['Cabin'].apply(cabinDeck)\n",
    "data2['CabinNum'] = data2['Cabin'].apply(cabinNum)\n",
    "data2['CabinSide'] = data2['Cabin'].apply(cabinSide)"
   ]
  },
  {
   "cell_type": "code",
   "execution_count": 20,
   "metadata": {},
   "outputs": [],
   "source": [
    "data2.drop('Cabin', axis=1, inplace=True)"
   ]
  },
  {
   "cell_type": "code",
   "execution_count": 21,
   "metadata": {},
   "outputs": [],
   "source": [
    "data2 = data2[['GroupNum', 'PassengerNum', 'HomePlanet', 'CryoSleep', 'CabinDeck', 'CabinNum', 'CabinSide', 'Destination', 'Age', 'VIP', 'RoomService', 'FoodCourt', 'ShoppingMall', 'Spa', 'VRDeck', 'Name']]"
   ]
  },
  {
   "cell_type": "code",
   "execution_count": 22,
   "metadata": {},
   "outputs": [
    {
     "data": {
      "text/plain": [
       "<AxesSubplot:>"
      ]
     },
     "execution_count": 22,
     "metadata": {},
     "output_type": "execute_result"
    },
    {
     "data": {
      "image/png": "[encoded data removed]",
      "text/plain": [
       "<Figure size 720x432 with 1 Axes>"
      ]
     },
     "metadata": {},
     "output_type": "display_data"
    }
   ],
   "source": [
    "plt.figure(figsize=(10, 6))\n",
    "sns.heatmap(data=data2.isnull(), yticklabels=False, cmap='viridis', cbar=False)"
   ]
  },
  {
   "cell_type": "markdown",
   "metadata": {},
   "source": [
    "### Missing CryoSleep"
   ]
  },
  {
   "cell_type": "code",
   "execution_count": 23,
   "metadata": {},
   "outputs": [
    {
     "data": {
      "text/plain": [
       "VIP    CryoSleep\n",
       "False  False        7657\n",
       "       True         4449\n",
       "True   False         239\n",
       "       True           28\n",
       "dtype: int64"
      ]
     },
     "execution_count": 23,
     "metadata": {},
     "output_type": "execute_result"
    }
   ],
   "source": [
    "data2.loc[:, ['VIP', 'CryoSleep']].value_counts()"
   ]
  },
  {
   "cell_type": "code",
   "execution_count": 24,
   "metadata": {},
   "outputs": [],
   "source": [
    "data2.loc[data2['CryoSleep'].isna(), 'CryoSleep'] = 'False'"
   ]
  },
  {
   "cell_type": "code",
   "execution_count": 25,
   "metadata": {},
   "outputs": [],
   "source": [
    "data2['CryoSleep'] = data2['CryoSleep'].astype(bool)"
   ]
  },
  {
   "cell_type": "code",
   "execution_count": 26,
   "metadata": {},
   "outputs": [
    {
     "data": {
      "text/plain": [
       "<AxesSubplot:>"
      ]
     },
     "execution_count": 26,
     "metadata": {},
     "output_type": "execute_result"
    },
    {
     "data": {
      "image/png": "[encoded data removed]",
      "text/plain": [
       "<Figure size 720x432 with 1 Axes>"
      ]
     },
     "metadata": {},
     "output_type": "display_data"
    }
   ],
   "source": [
    "plt.figure(figsize=(10, 6))\n",
    "sns.heatmap(data=data2.isnull(), yticklabels=False, cmap='viridis', cbar=False)"
   ]
  },
  {
   "cell_type": "code",
   "execution_count": 27,
   "metadata": {},
   "outputs": [],
   "source": [
    "data3 = data2.copy()"
   ]
  },
  {
   "cell_type": "markdown",
   "metadata": {},
   "source": [
    "### Missing CabinDeck"
   ]
  },
  {
   "cell_type": "code",
   "execution_count": 28,
   "metadata": {},
   "outputs": [],
   "source": [
    "peopleInAGroup = data3.loc[data3['GroupNum'].duplicated(False), 'GroupNum'].value_counts()\n",
    "for person in data3.loc[data3['GroupNum'].duplicated(False), 'GroupNum'].index:\n",
    "    total = peopleInAGroup[data3.loc[person, 'GroupNum']]\n",
    "    data3.loc[person, 'PeopleInGroup'] = total\n",
    "\n",
    "data3.loc[data3['PeopleInGroup'].isna(), 'PeopleInGroup'] = 1"
   ]
  },
  {
   "cell_type": "code",
   "execution_count": 29,
   "metadata": {},
   "outputs": [
    {
     "data": {
      "text/plain": [
       "<AxesSubplot:xlabel='GroupNum', ylabel='CabinDeck'>"
      ]
     },
     "execution_count": 29,
     "metadata": {},
     "output_type": "execute_result"
    },
    {
     "data": {
      "image/png": "[encoded data removed]",
      "text/plain": [
       "<Figure size 1440x720 with 1 Axes>"
      ]
     },
     "metadata": {},
     "output_type": "display_data"
    }
   ],
   "source": [
    "plt.figure(figsize=(20, 10))\n",
    "sns.scatterplot(data=data3.loc[data3['PeopleInGroup'] > 1].loc[data3.loc[data3['PeopleInGroup'] > 1].index[40:60]], x='GroupNum', y='CabinDeck')"
   ]
  },
  {
   "cell_type": "code",
   "execution_count": 30,
   "metadata": {},
   "outputs": [
    {
     "data": {
      "text/plain": [
       "139"
      ]
     },
     "execution_count": 30,
     "metadata": {},
     "output_type": "execute_result"
    }
   ],
   "source": [
    "data3.loc[data3['PeopleInGroup'] > 1, 'CabinDeck'].isna().sum()"
   ]
  },
  {
   "cell_type": "code",
   "execution_count": 31,
   "metadata": {},
   "outputs": [
    {
     "data": {
      "text/plain": [
       "299"
      ]
     },
     "execution_count": 31,
     "metadata": {},
     "output_type": "execute_result"
    }
   ],
   "source": [
    "data3['CabinDeck'].isna().sum()"
   ]
  },
  {
   "cell_type": "code",
   "execution_count": 32,
   "metadata": {},
   "outputs": [],
   "source": [
    "for person in data3.loc[data3['PeopleInGroup']>1, 'CabinDeck'].isna().loc[data3.loc[data3['PeopleInGroup']>1, 'CabinDeck'].isna()].index:\n",
    "    gn = data3.loc[person, 'GroupNum']\n",
    "    cd = data3.loc[data3['CabinDeck'].notna() & (data3['GroupNum'] == gn), 'CabinDeck']\n",
    "    if len(cd) > 0:\n",
    "        cd = cd.mode()[0]\n",
    "        data3.loc[person, 'CabinDeck'] = cd"
   ]
  },
  {
   "cell_type": "code",
   "execution_count": 33,
   "metadata": {},
   "outputs": [
    {
     "data": {
      "text/plain": [
       "F    4268\n",
       "G    3821\n",
       "E    1334\n",
       "B    1161\n",
       "C    1122\n",
       "D     730\n",
       "A     361\n",
       "T      11\n",
       "Name: CabinDeck, dtype: int64"
      ]
     },
     "execution_count": 33,
     "metadata": {},
     "output_type": "execute_result"
    }
   ],
   "source": [
    "data3['CabinDeck'].value_counts()"
   ]
  },
  {
   "cell_type": "code",
   "execution_count": 34,
   "metadata": {},
   "outputs": [
    {
     "data": {
      "text/plain": [
       "F    4130\n",
       "G    3732\n",
       "E    1284\n",
       "B    1077\n",
       "C    1035\n",
       "D     674\n",
       "A     305\n",
       "T      10\n",
       "Name: CabinDeck, dtype: int64"
      ]
     },
     "execution_count": 34,
     "metadata": {},
     "output_type": "execute_result"
    }
   ],
   "source": [
    "data3.loc[(data3['VIP'] == False), 'CabinDeck'].value_counts()"
   ]
  },
  {
   "cell_type": "code",
   "execution_count": 35,
   "metadata": {},
   "outputs": [
    {
     "data": {
      "text/html": [
       "<div>\n",
       "<style scoped>\n",
       "    .dataframe tbody tr th:only-of-type {\n",
       "        vertical-align: middle;\n",
       "    }\n",
       "\n",
       "    .dataframe tbody tr th {\n",
       "        vertical-align: top;\n",
       "    }\n",
       "\n",
       "    .dataframe thead th {\n",
       "        text-align: right;\n",
       "    }\n",
       "</style>\n",
       "<table border=\"1\" class=\"dataframe\">\n",
       "  <thead>\n",
       "    <tr style=\"text-align: right;\">\n",
       "      <th></th>\n",
       "      <th>GroupNum</th>\n",
       "      <th>PassengerNum</th>\n",
       "      <th>HomePlanet</th>\n",
       "      <th>CryoSleep</th>\n",
       "      <th>CabinDeck</th>\n",
       "      <th>CabinNum</th>\n",
       "      <th>CabinSide</th>\n",
       "      <th>Destination</th>\n",
       "      <th>Age</th>\n",
       "      <th>VIP</th>\n",
       "      <th>RoomService</th>\n",
       "      <th>FoodCourt</th>\n",
       "      <th>ShoppingMall</th>\n",
       "      <th>Spa</th>\n",
       "      <th>VRDeck</th>\n",
       "      <th>Name</th>\n",
       "      <th>PeopleInGroup</th>\n",
       "    </tr>\n",
       "  </thead>\n",
       "  <tbody>\n",
       "  </tbody>\n",
       "</table>\n",
       "</div>"
      ],
      "text/plain": [
       "Empty DataFrame\n",
       "Columns: [GroupNum, PassengerNum, HomePlanet, CryoSleep, CabinDeck, CabinNum, CabinSide, Destination, Age, VIP, RoomService, FoodCourt, ShoppingMall, Spa, VRDeck, Name, PeopleInGroup]\n",
       "Index: []"
      ]
     },
     "execution_count": 35,
     "metadata": {},
     "output_type": "execute_result"
    }
   ],
   "source": [
    "data3.loc[data3['CabinDeck'].isna() & (data3['VIP'] == True)]"
   ]
  },
  {
   "cell_type": "code",
   "execution_count": 36,
   "metadata": {},
   "outputs": [],
   "source": [
    "data3.loc[data3['CabinDeck'].isna(), 'CabinDeck'] = 'F'"
   ]
  },
  {
   "cell_type": "code",
   "execution_count": 37,
   "metadata": {},
   "outputs": [
    {
     "data": {
      "text/plain": [
       "<AxesSubplot:>"
      ]
     },
     "execution_count": 37,
     "metadata": {},
     "output_type": "execute_result"
    },
    {
     "data": {
      "image/png": "[encoded data removed]",
      "text/plain": [
       "<Figure size 720x432 with 1 Axes>"
      ]
     },
     "metadata": {},
     "output_type": "display_data"
    }
   ],
   "source": [
    "plt.figure(figsize=(10, 6))\n",
    "sns.heatmap(data=data3.isnull(), yticklabels=False, cmap='viridis', cbar=False)"
   ]
  },
  {
   "cell_type": "markdown",
   "metadata": {},
   "source": [
    "### Missing CabinNum"
   ]
  },
  {
   "cell_type": "code",
   "execution_count": 38,
   "metadata": {},
   "outputs": [],
   "source": [
    "for person in data3.loc[data3['PeopleInGroup']>1, 'CabinNum'].isna().loc[data3.loc[data3['PeopleInGroup']>1, 'CabinNum'].isna()].index:\n",
    "    gn = data3.loc[person, 'GroupNum']\n",
    "    cn = data3.loc[data3['CabinNum'].notna() & (data3['GroupNum'] == gn), 'CabinNum']\n",
    "    if len(cn) > 0:\n",
    "        cn = cn.mode()[0]\n",
    "        data3.loc[person, 'CabinNum'] = cn"
   ]
  },
  {
   "cell_type": "code",
   "execution_count": 39,
   "metadata": {},
   "outputs": [],
   "source": [
    "data3.loc[data3['CabinDeck'] == 'F', 'CabinNum'] = data3.loc[data3['CabinDeck'] == 'F', 'CabinNum'].fillna(method='ffill')"
   ]
  },
  {
   "cell_type": "code",
   "execution_count": 40,
   "metadata": {},
   "outputs": [
    {
     "data": {
      "text/plain": [
       "<AxesSubplot:>"
      ]
     },
     "execution_count": 40,
     "metadata": {},
     "output_type": "execute_result"
    },
    {
     "data": {
      "image/png": "[encoded data removed]",
      "text/plain": [
       "<Figure size 720x432 with 1 Axes>"
      ]
     },
     "metadata": {},
     "output_type": "display_data"
    }
   ],
   "source": [
    "plt.figure(figsize=(10, 6))\n",
    "sns.heatmap(data=data3.isnull(), yticklabels=False, cmap='viridis', cbar=False)"
   ]
  },
  {
   "cell_type": "markdown",
   "metadata": {},
   "source": [
    "### Missing CabinSide"
   ]
  },
  {
   "cell_type": "code",
   "execution_count": 41,
   "metadata": {},
   "outputs": [],
   "source": [
    "for person in data3.loc[data3['PeopleInGroup']>1, 'CabinSide'].isna().loc[data3.loc[data3['PeopleInGroup']>1, 'CabinSide'].isna()].index:\n",
    "    gn = data3.loc[person, 'GroupNum']\n",
    "    cs = data3.loc[data3['CabinSide'].notna() & (data3['GroupNum'] == gn), 'CabinSide']\n",
    "    if len(cs) > 0:\n",
    "        cs = cs.mode()[0]\n",
    "        data3.loc[person, 'CabinSide'] = cs"
   ]
  },
  {
   "cell_type": "code",
   "execution_count": 42,
   "metadata": {},
   "outputs": [
    {
     "data": {
      "text/plain": [
       "1"
      ]
     },
     "execution_count": 42,
     "metadata": {},
     "output_type": "execute_result"
    }
   ],
   "source": [
    "data3.loc[(data3['CabinDeck'] == 'F') & (data3['CabinNum'] == '19') & (data3['CabinSide'] == 'P')].shape[0]"
   ]
  },
  {
   "cell_type": "code",
   "execution_count": 43,
   "metadata": {},
   "outputs": [],
   "source": [
    "for person in data3.loc[data3['CabinSide'].isna()].index:\n",
    "    choices = ['F', 'G', 'E', 'B', 'C', 'D', 'A', 'T']\n",
    "    deck = data3.loc[person, 'CabinDeck']\n",
    "    num = data3.loc[person, 'CabinNum']\n",
    "    if data3.loc[(data3['CabinDeck'] == deck) & (data3['CabinNum'] == num) & (data3['CabinSide'] == 'P')].shape[0] == 0:\n",
    "        data3.loc[person, 'CabinSide'] = 'P'\n",
    "    elif data3.loc[(data3['CabinDeck'] == deck) & (data3['CabinNum'] == num) & (data3['CabinSide'] == 'S')].shape[0] == 0:\n",
    "        data3.loc[person, 'CabinSide'] = 'S'\n",
    "    else:\n",
    "        for c in choices:\n",
    "            if data3.loc[(data3['CabinDeck'] == c) & (data3['CabinNum'] == num) & (data3['CabinSide'] == 'P')].shape[0] == 0:\n",
    "                data3.loc[person, 'CabinSide'] = 'P'\n",
    "                break\n",
    "            elif data3.loc[(data3['CabinDeck'] == c) & (data3['CabinNum'] == num) & (data3['CabinSide'] == 'S')].shape[0] == 0:\n",
    "                data3.loc[person, 'CabinSide'] = 'S'\n",
    "                break"
   ]
  },
  {
   "cell_type": "code",
   "execution_count": 44,
   "metadata": {},
   "outputs": [
    {
     "data": {
      "text/plain": [
       "<AxesSubplot:>"
      ]
     },
     "execution_count": 44,
     "metadata": {},
     "output_type": "execute_result"
    },
    {
     "data": {
      "image/png": "[encoded data removed]",
      "text/plain": [
       "<Figure size 720x432 with 1 Axes>"
      ]
     },
     "metadata": {},
     "output_type": "display_data"
    }
   ],
   "source": [
    "plt.figure(figsize=(10, 6))\n",
    "sns.heatmap(data=data3.isnull(), yticklabels=False, cmap='viridis', cbar=False)"
   ]
  },
  {
   "cell_type": "code",
   "execution_count": 45,
   "metadata": {},
   "outputs": [],
   "source": [
    "data4 = data3.copy()"
   ]
  },
  {
   "cell_type": "markdown",
   "metadata": {},
   "source": [
    "### Missing Names"
   ]
  },
  {
   "cell_type": "code",
   "execution_count": 46,
   "metadata": {},
   "outputs": [],
   "source": [
    "def lastname(string):\n",
    "    string = str(string).split()\n",
    "    if len(string) > 1:\n",
    "        return string[1]"
   ]
  },
  {
   "cell_type": "code",
   "execution_count": 47,
   "metadata": {},
   "outputs": [],
   "source": [
    "data4['LastName'] = data4['Name'].apply(lastname)"
   ]
  },
  {
   "cell_type": "code",
   "execution_count": 48,
   "metadata": {},
   "outputs": [],
   "source": [
    "for person in data4.loc[data4['PeopleInGroup'] > 1, 'LastName'].loc[data4.loc[data4['PeopleInGroup'] > 1, 'LastName'].isna()].index:\n",
    "    gn = data4.loc[person, 'GroupNum']\n",
    "    cs = data4.loc[data4['LastName'].notna() & (data4['GroupNum'] == gn), 'LastName']\n",
    "    if len(cs) > 0:\n",
    "        cs = cs.mode()[0]\n",
    "        data4.loc[person, 'LastName'] = cs"
   ]
  },
  {
   "cell_type": "code",
   "execution_count": 49,
   "metadata": {},
   "outputs": [],
   "source": [
    "data4.loc[data4['LastName'].isna(), 'LastName'] = 'Unknown'"
   ]
  },
  {
   "cell_type": "code",
   "execution_count": 50,
   "metadata": {},
   "outputs": [],
   "source": [
    "data4.drop('Name', axis=1, inplace=True)"
   ]
  },
  {
   "cell_type": "code",
   "execution_count": 51,
   "metadata": {},
   "outputs": [
    {
     "data": {
      "text/plain": [
       "<AxesSubplot:>"
      ]
     },
     "execution_count": 51,
     "metadata": {},
     "output_type": "execute_result"
    },
    {
     "data": {
      "image/png": "[encoded data removed]",
      "text/plain": [
       "<Figure size 720x432 with 1 Axes>"
      ]
     },
     "metadata": {},
     "output_type": "display_data"
    }
   ],
   "source": [
    "plt.figure(figsize=(10, 6))\n",
    "sns.heatmap(data=data4.isnull(), yticklabels=False, cmap='viridis', cbar=False)"
   ]
  },
  {
   "cell_type": "markdown",
   "metadata": {},
   "source": [
    "### Missing Destination"
   ]
  },
  {
   "cell_type": "code",
   "execution_count": 52,
   "metadata": {},
   "outputs": [],
   "source": [
    "data4.loc[data4['Destination'].isna(), 'Destination'] = data4['Destination'].mode()[0]"
   ]
  },
  {
   "cell_type": "code",
   "execution_count": 53,
   "metadata": {},
   "outputs": [
    {
     "data": {
      "text/plain": [
       "<AxesSubplot:>"
      ]
     },
     "execution_count": 53,
     "metadata": {},
     "output_type": "execute_result"
    },
    {
     "data": {
      "image/png": "[encoded data removed]",
      "text/plain": [
       "<Figure size 720x432 with 1 Axes>"
      ]
     },
     "metadata": {},
     "output_type": "display_data"
    }
   ],
   "source": [
    "plt.figure(figsize=(10, 6))\n",
    "sns.heatmap(data=data4.isnull(), yticklabels=False, cmap='viridis', cbar=False)"
   ]
  },
  {
   "cell_type": "markdown",
   "metadata": {},
   "source": [
    "### Missing VIP"
   ]
  },
  {
   "cell_type": "code",
   "execution_count": 54,
   "metadata": {},
   "outputs": [],
   "source": [
    "data4.loc[((data4['RoomService'] >= data4.loc[(data4['VIP'] == True), 'RoomService'].mean()) | (data4['FoodCourt'] >= data4.loc[(data4['VIP'] == True), 'FoodCourt'].mean()) | (data4['ShoppingMall'] >= data4.loc[(data4['VIP'] == True), 'ShoppingMall'].mean()) | (data4['Spa'] >= data4.loc[(data4['VIP'] == True), 'Spa'].mean()) | (data4['VRDeck'] >= data4.loc[(data4['VIP'] == True), 'VRDeck'].mean())) & (data4['VIP'].isna()) & (data4['Age'] >= 30), 'VIP'] = True"
   ]
  },
  {
   "cell_type": "code",
   "execution_count": 55,
   "metadata": {},
   "outputs": [],
   "source": [
    "data4['VIP'].fillna(False, inplace=True)"
   ]
  },
  {
   "cell_type": "code",
   "execution_count": 56,
   "metadata": {},
   "outputs": [
    {
     "data": {
      "text/plain": [
       "<AxesSubplot:>"
      ]
     },
     "execution_count": 56,
     "metadata": {},
     "output_type": "execute_result"
    },
    {
     "data": {
      "image/png": "[encoded data removed]",
      "text/plain": [
       "<Figure size 720x432 with 1 Axes>"
      ]
     },
     "metadata": {},
     "output_type": "display_data"
    }
   ],
   "source": [
    "plt.figure(figsize=(10, 6))\n",
    "sns.heatmap(data=data4.isnull(), yticklabels=False, cmap='viridis', cbar=False)"
   ]
  },
  {
   "cell_type": "markdown",
   "metadata": {},
   "source": [
    "### Missing Age"
   ]
  },
  {
   "cell_type": "code",
   "execution_count": 57,
   "metadata": {},
   "outputs": [],
   "source": [
    "data4.loc[(data4['VIP'] == True) & (data4['Age'].isna()), 'Age'] = round(data4.loc[data4['VIP'] == True, 'Age'].dropna().mean())"
   ]
  },
  {
   "cell_type": "code",
   "execution_count": 58,
   "metadata": {},
   "outputs": [],
   "source": [
    "data4.loc[(data4['VIP'] == False) & (data4['Age'].isna()), 'Age'] = round(data4.loc[data4['VIP'] == False, 'Age'].dropna().mean())"
   ]
  },
  {
   "cell_type": "code",
   "execution_count": 59,
   "metadata": {},
   "outputs": [
    {
     "data": {
      "text/plain": [
       "<AxesSubplot:>"
      ]
     },
     "execution_count": 59,
     "metadata": {},
     "output_type": "execute_result"
    },
    {
     "data": {
      "image/png": "[encoded data removed]",
      "text/plain": [
       "<Figure size 720x432 with 1 Axes>"
      ]
     },
     "metadata": {},
     "output_type": "display_data"
    }
   ],
   "source": [
    "plt.figure(figsize=(10, 6))\n",
    "sns.heatmap(data=data4.isnull(), yticklabels=False, cmap='viridis', cbar=False)"
   ]
  },
  {
   "cell_type": "markdown",
   "metadata": {},
   "source": [
    "### Missing Amenities"
   ]
  },
  {
   "cell_type": "code",
   "execution_count": 60,
   "metadata": {},
   "outputs": [],
   "source": [
    "for col in [\n",
    "    'RoomService',\n",
    "    'FoodCourt',\n",
    "    'VRDeck',\n",
    "    'ShoppingMall',\n",
    "    'Spa'\n",
    "]:\n",
    "    data4[col].fillna(data4[col].mean(), inplace=True)"
   ]
  },
  {
   "cell_type": "code",
   "execution_count": 61,
   "metadata": {},
   "outputs": [
    {
     "data": {
      "text/plain": [
       "<AxesSubplot:>"
      ]
     },
     "execution_count": 61,
     "metadata": {},
     "output_type": "execute_result"
    },
    {
     "data": {
      "image/png": "[encoded data removed]",
      "text/plain": [
       "<Figure size 720x432 with 1 Axes>"
      ]
     },
     "metadata": {},
     "output_type": "display_data"
    }
   ],
   "source": [
    "plt.figure(figsize=(10, 6))\n",
    "sns.heatmap(data=data4.isnull(), yticklabels=False, cmap='viridis', cbar=False)"
   ]
  },
  {
   "cell_type": "code",
   "execution_count": 62,
   "metadata": {},
   "outputs": [],
   "source": [
    "data5 = data4.copy()"
   ]
  },
  {
   "cell_type": "markdown",
   "metadata": {},
   "source": [
    "## Further Feature Transformations"
   ]
  },
  {
   "cell_type": "code",
   "execution_count": 63,
   "metadata": {},
   "outputs": [],
   "source": [
    "data5['CabinNum'] = data5['CabinNum'].astype(np.int)"
   ]
  },
  {
   "cell_type": "code",
   "execution_count": 64,
   "metadata": {},
   "outputs": [],
   "source": [
    "for col in data5.select_dtypes(np.number).skew()[data5.select_dtypes(np.number).skew() > 0.5].index:\n",
    "    data5[col] = np.log1p(data5[col])"
   ]
  },
  {
   "cell_type": "code",
   "execution_count": 65,
   "metadata": {},
   "outputs": [
    {
     "data": {
      "text/plain": [
       "GroupNum         0.001741\n",
       "PassengerNum     1.836905\n",
       "CabinNum        -1.074143\n",
       "Age              0.443505\n",
       "RoomService      1.030436\n",
       "FoodCourt        1.017876\n",
       "ShoppingMall     1.095306\n",
       "Spa              1.006143\n",
       "VRDeck           1.093721\n",
       "PeopleInGroup    1.146030\n",
       "dtype: float64"
      ]
     },
     "execution_count": 65,
     "metadata": {},
     "output_type": "execute_result"
    }
   ],
   "source": [
    "data5.select_dtypes(np.number).skew()"
   ]
  },
  {
   "cell_type": "code",
   "execution_count": 66,
   "metadata": {},
   "outputs": [],
   "source": [
    "data6 = data5.copy()"
   ]
  },
  {
   "cell_type": "markdown",
   "metadata": {},
   "source": [
    "## Encoding"
   ]
  },
  {
   "cell_type": "code",
   "execution_count": 69,
   "metadata": {},
   "outputs": [],
   "source": [
    "data6.drop('LastName', axis=1, inplace=True)"
   ]
  },
  {
   "cell_type": "code",
   "execution_count": 74,
   "metadata": {},
   "outputs": [],
   "source": [
    "data6 = pd.get_dummies(data6, drop_first=True)"
   ]
  },
  {
   "cell_type": "markdown",
   "metadata": {},
   "source": [
    "## Scaling"
   ]
  },
  {
   "cell_type": "code",
   "execution_count": 75,
   "metadata": {},
   "outputs": [],
   "source": [
    "scaler = StandardScaler()"
   ]
  },
  {
   "cell_type": "code",
   "execution_count": 76,
   "metadata": {},
   "outputs": [
    {
     "data": {
      "text/plain": [
       "StandardScaler()"
      ]
     },
     "execution_count": 76,
     "metadata": {},
     "output_type": "execute_result"
    }
   ],
   "source": [
    "scaler.fit(data6)"
   ]
  },
  {
   "cell_type": "code",
   "execution_count": 77,
   "metadata": {},
   "outputs": [],
   "source": [
    "data7 = pd.DataFrame(scaler.transform(data6), index=data6.index, columns=data6.columns)"
   ]
  },
  {
   "cell_type": "code",
   "execution_count": 78,
   "metadata": {},
   "outputs": [
    {
     "data": {
      "text/html": [
       "<div>\n",
       "<style scoped>\n",
       "    .dataframe tbody tr th:only-of-type {\n",
       "        vertical-align: middle;\n",
       "    }\n",
       "\n",
       "    .dataframe tbody tr th {\n",
       "        vertical-align: top;\n",
       "    }\n",
       "\n",
       "    .dataframe thead th {\n",
       "        text-align: right;\n",
       "    }\n",
       "</style>\n",
       "<table border=\"1\" class=\"dataframe\">\n",
       "  <thead>\n",
       "    <tr style=\"text-align: right;\">\n",
       "      <th></th>\n",
       "      <th>GroupNum</th>\n",
       "      <th>PassengerNum</th>\n",
       "      <th>CryoSleep</th>\n",
       "      <th>CabinNum</th>\n",
       "      <th>Age</th>\n",
       "      <th>VIP</th>\n",
       "      <th>RoomService</th>\n",
       "      <th>FoodCourt</th>\n",
       "      <th>ShoppingMall</th>\n",
       "      <th>Spa</th>\n",
       "      <th>VRDeck</th>\n",
       "      <th>PeopleInGroup</th>\n",
       "      <th>HomePlanet_Europa</th>\n",
       "      <th>HomePlanet_Mars</th>\n",
       "      <th>CabinDeck_B</th>\n",
       "      <th>CabinDeck_C</th>\n",
       "      <th>CabinDeck_D</th>\n",
       "      <th>CabinDeck_E</th>\n",
       "      <th>CabinDeck_F</th>\n",
       "      <th>CabinDeck_G</th>\n",
       "      <th>CabinDeck_T</th>\n",
       "      <th>CabinSide_S</th>\n",
       "      <th>Destination_PSO J318.5-22</th>\n",
       "      <th>Destination_TRAPPIST-1e</th>\n",
       "    </tr>\n",
       "  </thead>\n",
       "  <tbody>\n",
       "    <tr>\n",
       "      <th>0</th>\n",
       "      <td>-1.725496</td>\n",
       "      <td>-0.556538</td>\n",
       "      <td>-0.778072</td>\n",
       "      <td>-4.583327</td>\n",
       "      <td>0.717998</td>\n",
       "      <td>-0.160823</td>\n",
       "      <td>-0.671714</td>\n",
       "      <td>-0.683700</td>\n",
       "      <td>-0.661225</td>\n",
       "      <td>-0.697615</td>\n",
       "      <td>-0.666900</td>\n",
       "      <td>-0.760413</td>\n",
       "      <td>1.756428</td>\n",
       "      <td>-0.515616</td>\n",
       "      <td>3.189264</td>\n",
       "      <td>-0.307733</td>\n",
       "      <td>-0.244214</td>\n",
       "      <td>-0.338592</td>\n",
       "      <td>-0.720233</td>\n",
       "      <td>-0.646252</td>\n",
       "      <td>-0.029135</td>\n",
       "      <td>-0.996767</td>\n",
       "      <td>-0.316951</td>\n",
       "      <td>0.646731</td>\n",
       "    </tr>\n",
       "    <tr>\n",
       "      <th>1</th>\n",
       "      <td>-1.725123</td>\n",
       "      <td>-0.556538</td>\n",
       "      <td>-0.778072</td>\n",
       "      <td>-4.583327</td>\n",
       "      <td>-0.335620</td>\n",
       "      <td>-0.160823</td>\n",
       "      <td>1.032438</td>\n",
       "      <td>0.088870</td>\n",
       "      <td>0.584088</td>\n",
       "      <td>1.550272</td>\n",
       "      <td>0.700298</td>\n",
       "      <td>-0.760413</td>\n",
       "      <td>-0.569337</td>\n",
       "      <td>-0.515616</td>\n",
       "      <td>-0.313552</td>\n",
       "      <td>-0.307733</td>\n",
       "      <td>-0.244214</td>\n",
       "      <td>-0.338592</td>\n",
       "      <td>1.388440</td>\n",
       "      <td>-0.646252</td>\n",
       "      <td>-0.029135</td>\n",
       "      <td>1.003244</td>\n",
       "      <td>-0.316951</td>\n",
       "      <td>0.646731</td>\n",
       "    </tr>\n",
       "    <tr>\n",
       "      <th>2</th>\n",
       "      <td>-1.724751</td>\n",
       "      <td>-0.556538</td>\n",
       "      <td>-0.778072</td>\n",
       "      <td>-4.583327</td>\n",
       "      <td>2.052581</td>\n",
       "      <td>6.218007</td>\n",
       "      <td>0.700238</td>\n",
       "      <td>2.061641</td>\n",
       "      <td>-0.661225</td>\n",
       "      <td>2.441718</td>\n",
       "      <td>0.738139</td>\n",
       "      <td>0.220593</td>\n",
       "      <td>1.756428</td>\n",
       "      <td>-0.515616</td>\n",
       "      <td>-0.313552</td>\n",
       "      <td>-0.307733</td>\n",
       "      <td>-0.244214</td>\n",
       "      <td>-0.338592</td>\n",
       "      <td>-0.720233</td>\n",
       "      <td>-0.646252</td>\n",
       "      <td>-0.029135</td>\n",
       "      <td>1.003244</td>\n",
       "      <td>-0.316951</td>\n",
       "      <td>0.646731</td>\n",
       "    </tr>\n",
       "    <tr>\n",
       "      <th>3</th>\n",
       "      <td>-1.724751</td>\n",
       "      <td>0.764721</td>\n",
       "      <td>-0.778072</td>\n",
       "      <td>-4.583327</td>\n",
       "      <td>0.296551</td>\n",
       "      <td>-0.160823</td>\n",
       "      <td>-0.671714</td>\n",
       "      <td>1.717883</td>\n",
       "      <td>1.601101</td>\n",
       "      <td>2.191804</td>\n",
       "      <td>1.225100</td>\n",
       "      <td>0.220593</td>\n",
       "      <td>1.756428</td>\n",
       "      <td>-0.515616</td>\n",
       "      <td>-0.313552</td>\n",
       "      <td>-0.307733</td>\n",
       "      <td>-0.244214</td>\n",
       "      <td>-0.338592</td>\n",
       "      <td>-0.720233</td>\n",
       "      <td>-0.646252</td>\n",
       "      <td>-0.029135</td>\n",
       "      <td>1.003244</td>\n",
       "      <td>-0.316951</td>\n",
       "      <td>0.646731</td>\n",
       "    </tr>\n",
       "    <tr>\n",
       "      <th>4</th>\n",
       "      <td>-1.724379</td>\n",
       "      <td>-0.556538</td>\n",
       "      <td>-0.778072</td>\n",
       "      <td>-4.040775</td>\n",
       "      <td>-0.897549</td>\n",
       "      <td>-0.160823</td>\n",
       "      <td>1.400986</td>\n",
       "      <td>0.746526</td>\n",
       "      <td>1.259008</td>\n",
       "      <td>1.560487</td>\n",
       "      <td>-0.272323</td>\n",
       "      <td>-0.760413</td>\n",
       "      <td>-0.569337</td>\n",
       "      <td>-0.515616</td>\n",
       "      <td>-0.313552</td>\n",
       "      <td>-0.307733</td>\n",
       "      <td>-0.244214</td>\n",
       "      <td>-0.338592</td>\n",
       "      <td>1.388440</td>\n",
       "      <td>-0.646252</td>\n",
       "      <td>-0.029135</td>\n",
       "      <td>1.003244</td>\n",
       "      <td>-0.316951</td>\n",
       "      <td>0.646731</td>\n",
       "    </tr>\n",
       "  </tbody>\n",
       "</table>\n",
       "</div>"
      ],
      "text/plain": [
       "   GroupNum  PassengerNum  CryoSleep  CabinNum       Age       VIP  \\\n",
       "0 -1.725496     -0.556538  -0.778072 -4.583327  0.717998 -0.160823   \n",
       "1 -1.725123     -0.556538  -0.778072 -4.583327 -0.335620 -0.160823   \n",
       "2 -1.724751     -0.556538  -0.778072 -4.583327  2.052581  6.218007   \n",
       "3 -1.724751      0.764721  -0.778072 -4.583327  0.296551 -0.160823   \n",
       "4 -1.724379     -0.556538  -0.778072 -4.040775 -0.897549 -0.160823   \n",
       "\n",
       "   RoomService  FoodCourt  ShoppingMall       Spa    VRDeck  PeopleInGroup  \\\n",
       "0    -0.671714  -0.683700     -0.661225 -0.697615 -0.666900      -0.760413   \n",
       "1     1.032438   0.088870      0.584088  1.550272  0.700298      -0.760413   \n",
       "2     0.700238   2.061641     -0.661225  2.441718  0.738139       0.220593   \n",
       "3    -0.671714   1.717883      1.601101  2.191804  1.225100       0.220593   \n",
       "4     1.400986   0.746526      1.259008  1.560487 -0.272323      -0.760413   \n",
       "\n",
       "   HomePlanet_Europa  HomePlanet_Mars  CabinDeck_B  CabinDeck_C  CabinDeck_D  \\\n",
       "0           1.756428        -0.515616     3.189264    -0.307733    -0.244214   \n",
       "1          -0.569337        -0.515616    -0.313552    -0.307733    -0.244214   \n",
       "2           1.756428        -0.515616    -0.313552    -0.307733    -0.244214   \n",
       "3           1.756428        -0.515616    -0.313552    -0.307733    -0.244214   \n",
       "4          -0.569337        -0.515616    -0.313552    -0.307733    -0.244214   \n",
       "\n",
       "   CabinDeck_E  CabinDeck_F  CabinDeck_G  CabinDeck_T  CabinSide_S  \\\n",
       "0    -0.338592    -0.720233    -0.646252    -0.029135    -0.996767   \n",
       "1    -0.338592     1.388440    -0.646252    -0.029135     1.003244   \n",
       "2    -0.338592    -0.720233    -0.646252    -0.029135     1.003244   \n",
       "3    -0.338592    -0.720233    -0.646252    -0.029135     1.003244   \n",
       "4    -0.338592     1.388440    -0.646252    -0.029135     1.003244   \n",
       "\n",
       "   Destination_PSO J318.5-22  Destination_TRAPPIST-1e  \n",
       "0                  -0.316951                 0.646731  \n",
       "1                  -0.316951                 0.646731  \n",
       "2                  -0.316951                 0.646731  \n",
       "3                  -0.316951                 0.646731  \n",
       "4                  -0.316951                 0.646731  "
      ]
     },
     "execution_count": 78,
     "metadata": {},
     "output_type": "execute_result"
    }
   ],
   "source": [
    "data7.head()"
   ]
  },
  {
   "cell_type": "markdown",
   "metadata": {},
   "source": [
    "## Preparing DataFrames for Models"
   ]
  },
  {
   "cell_type": "code",
   "execution_count": 79,
   "metadata": {},
   "outputs": [],
   "source": [
    "train1 = pd.concat([data7.loc[train0.index], target0], axis=1)"
   ]
  },
  {
   "cell_type": "code",
   "execution_count": 80,
   "metadata": {},
   "outputs": [],
   "source": [
    "test1 = data7.loc[data7.index[train0.index.max() + 1:]]"
   ]
  },
  {
   "cell_type": "markdown",
   "metadata": {},
   "source": [
    "## Model Selection"
   ]
  },
  {
   "cell_type": "code",
   "execution_count": 81,
   "metadata": {},
   "outputs": [
    {
     "data": {
      "text/html": [
       "<style type=\"text/css\">\n",
       "#T_765aa_row44_col1 {\n",
       "  background-color: lightgreen;\n",
       "}\n",
       "</style>\n",
       "<table id=\"T_765aa_\">\n",
       "  <thead>\n",
       "    <tr>\n",
       "      <th class=\"blank level0\" >&nbsp;</th>\n",
       "      <th class=\"col_heading level0 col0\" >Description</th>\n",
       "      <th class=\"col_heading level0 col1\" >Value</th>\n",
       "    </tr>\n",
       "  </thead>\n",
       "  <tbody>\n",
       "    <tr>\n",
       "      <th id=\"T_765aa_level0_row0\" class=\"row_heading level0 row0\" >0</th>\n",
       "      <td id=\"T_765aa_row0_col0\" class=\"data row0 col0\" >session_id</td>\n",
       "      <td id=\"T_765aa_row0_col1\" class=\"data row0 col1\" >8286</td>\n",
       "    </tr>\n",
       "    <tr>\n",
       "      <th id=\"T_765aa_level0_row1\" class=\"row_heading level0 row1\" >1</th>\n",
       "      <td id=\"T_765aa_row1_col0\" class=\"data row1 col0\" >Target</td>\n",
       "      <td id=\"T_765aa_row1_col1\" class=\"data row1 col1\" >Transported</td>\n",
       "    </tr>\n",
       "    <tr>\n",
       "      <th id=\"T_765aa_level0_row2\" class=\"row_heading level0 row2\" >2</th>\n",
       "      <td id=\"T_765aa_row2_col0\" class=\"data row2 col0\" >Target Type</td>\n",
       "      <td id=\"T_765aa_row2_col1\" class=\"data row2 col1\" >Binary</td>\n",
       "    </tr>\n",
       "    <tr>\n",
       "      <th id=\"T_765aa_level0_row3\" class=\"row_heading level0 row3\" >3</th>\n",
       "      <td id=\"T_765aa_row3_col0\" class=\"data row3 col0\" >Label Encoded</td>\n",
       "      <td id=\"T_765aa_row3_col1\" class=\"data row3 col1\" >False: 0, True: 1</td>\n",
       "    </tr>\n",
       "    <tr>\n",
       "      <th id=\"T_765aa_level0_row4\" class=\"row_heading level0 row4\" >4</th>\n",
       "      <td id=\"T_765aa_row4_col0\" class=\"data row4 col0\" >Original Data</td>\n",
       "      <td id=\"T_765aa_row4_col1\" class=\"data row4 col1\" >(8693, 25)</td>\n",
       "    </tr>\n",
       "    <tr>\n",
       "      <th id=\"T_765aa_level0_row5\" class=\"row_heading level0 row5\" >5</th>\n",
       "      <td id=\"T_765aa_row5_col0\" class=\"data row5 col0\" >Missing Values</td>\n",
       "      <td id=\"T_765aa_row5_col1\" class=\"data row5 col1\" >False</td>\n",
       "    </tr>\n",
       "    <tr>\n",
       "      <th id=\"T_765aa_level0_row6\" class=\"row_heading level0 row6\" >6</th>\n",
       "      <td id=\"T_765aa_row6_col0\" class=\"data row6 col0\" >Numeric Features</td>\n",
       "      <td id=\"T_765aa_row6_col1\" class=\"data row6 col1\" >10</td>\n",
       "    </tr>\n",
       "    <tr>\n",
       "      <th id=\"T_765aa_level0_row7\" class=\"row_heading level0 row7\" >7</th>\n",
       "      <td id=\"T_765aa_row7_col0\" class=\"data row7 col0\" >Categorical Features</td>\n",
       "      <td id=\"T_765aa_row7_col1\" class=\"data row7 col1\" >14</td>\n",
       "    </tr>\n",
       "    <tr>\n",
       "      <th id=\"T_765aa_level0_row8\" class=\"row_heading level0 row8\" >8</th>\n",
       "      <td id=\"T_765aa_row8_col0\" class=\"data row8 col0\" >Ordinal Features</td>\n",
       "      <td id=\"T_765aa_row8_col1\" class=\"data row8 col1\" >False</td>\n",
       "    </tr>\n",
       "    <tr>\n",
       "      <th id=\"T_765aa_level0_row9\" class=\"row_heading level0 row9\" >9</th>\n",
       "      <td id=\"T_765aa_row9_col0\" class=\"data row9 col0\" >High Cardinality Features</td>\n",
       "      <td id=\"T_765aa_row9_col1\" class=\"data row9 col1\" >False</td>\n",
       "    </tr>\n",
       "    <tr>\n",
       "      <th id=\"T_765aa_level0_row10\" class=\"row_heading level0 row10\" >10</th>\n",
       "      <td id=\"T_765aa_row10_col0\" class=\"data row10 col0\" >High Cardinality Method</td>\n",
       "      <td id=\"T_765aa_row10_col1\" class=\"data row10 col1\" >None</td>\n",
       "    </tr>\n",
       "    <tr>\n",
       "      <th id=\"T_765aa_level0_row11\" class=\"row_heading level0 row11\" >11</th>\n",
       "      <td id=\"T_765aa_row11_col0\" class=\"data row11 col0\" >Transformed Train Set</td>\n",
       "      <td id=\"T_765aa_row11_col1\" class=\"data row11 col1\" >(6085, 24)</td>\n",
       "    </tr>\n",
       "    <tr>\n",
       "      <th id=\"T_765aa_level0_row12\" class=\"row_heading level0 row12\" >12</th>\n",
       "      <td id=\"T_765aa_row12_col0\" class=\"data row12 col0\" >Transformed Test Set</td>\n",
       "      <td id=\"T_765aa_row12_col1\" class=\"data row12 col1\" >(2608, 24)</td>\n",
       "    </tr>\n",
       "    <tr>\n",
       "      <th id=\"T_765aa_level0_row13\" class=\"row_heading level0 row13\" >13</th>\n",
       "      <td id=\"T_765aa_row13_col0\" class=\"data row13 col0\" >Shuffle Train-Test</td>\n",
       "      <td id=\"T_765aa_row13_col1\" class=\"data row13 col1\" >True</td>\n",
       "    </tr>\n",
       "    <tr>\n",
       "      <th id=\"T_765aa_level0_row14\" class=\"row_heading level0 row14\" >14</th>\n",
       "      <td id=\"T_765aa_row14_col0\" class=\"data row14 col0\" >Stratify Train-Test</td>\n",
       "      <td id=\"T_765aa_row14_col1\" class=\"data row14 col1\" >False</td>\n",
       "    </tr>\n",
       "    <tr>\n",
       "      <th id=\"T_765aa_level0_row15\" class=\"row_heading level0 row15\" >15</th>\n",
       "      <td id=\"T_765aa_row15_col0\" class=\"data row15 col0\" >Fold Generator</td>\n",
       "      <td id=\"T_765aa_row15_col1\" class=\"data row15 col1\" >StratifiedKFold</td>\n",
       "    </tr>\n",
       "    <tr>\n",
       "      <th id=\"T_765aa_level0_row16\" class=\"row_heading level0 row16\" >16</th>\n",
       "      <td id=\"T_765aa_row16_col0\" class=\"data row16 col0\" >Fold Number</td>\n",
       "      <td id=\"T_765aa_row16_col1\" class=\"data row16 col1\" >10</td>\n",
       "    </tr>\n",
       "    <tr>\n",
       "      <th id=\"T_765aa_level0_row17\" class=\"row_heading level0 row17\" >17</th>\n",
       "      <td id=\"T_765aa_row17_col0\" class=\"data row17 col0\" >CPU Jobs</td>\n",
       "      <td id=\"T_765aa_row17_col1\" class=\"data row17 col1\" >-1</td>\n",
       "    </tr>\n",
       "    <tr>\n",
       "      <th id=\"T_765aa_level0_row18\" class=\"row_heading level0 row18\" >18</th>\n",
       "      <td id=\"T_765aa_row18_col0\" class=\"data row18 col0\" >Use GPU</td>\n",
       "      <td id=\"T_765aa_row18_col1\" class=\"data row18 col1\" >False</td>\n",
       "    </tr>\n",
       "    <tr>\n",
       "      <th id=\"T_765aa_level0_row19\" class=\"row_heading level0 row19\" >19</th>\n",
       "      <td id=\"T_765aa_row19_col0\" class=\"data row19 col0\" >Log Experiment</td>\n",
       "      <td id=\"T_765aa_row19_col1\" class=\"data row19 col1\" >False</td>\n",
       "    </tr>\n",
       "    <tr>\n",
       "      <th id=\"T_765aa_level0_row20\" class=\"row_heading level0 row20\" >20</th>\n",
       "      <td id=\"T_765aa_row20_col0\" class=\"data row20 col0\" >Experiment Name</td>\n",
       "      <td id=\"T_765aa_row20_col1\" class=\"data row20 col1\" >clf-default-name</td>\n",
       "    </tr>\n",
       "    <tr>\n",
       "      <th id=\"T_765aa_level0_row21\" class=\"row_heading level0 row21\" >21</th>\n",
       "      <td id=\"T_765aa_row21_col0\" class=\"data row21 col0\" >USI</td>\n",
       "      <td id=\"T_765aa_row21_col1\" class=\"data row21 col1\" >e5ae</td>\n",
       "    </tr>\n",
       "    <tr>\n",
       "      <th id=\"T_765aa_level0_row22\" class=\"row_heading level0 row22\" >22</th>\n",
       "      <td id=\"T_765aa_row22_col0\" class=\"data row22 col0\" >Imputation Type</td>\n",
       "      <td id=\"T_765aa_row22_col1\" class=\"data row22 col1\" >simple</td>\n",
       "    </tr>\n",
       "    <tr>\n",
       "      <th id=\"T_765aa_level0_row23\" class=\"row_heading level0 row23\" >23</th>\n",
       "      <td id=\"T_765aa_row23_col0\" class=\"data row23 col0\" >Iterative Imputation Iteration</td>\n",
       "      <td id=\"T_765aa_row23_col1\" class=\"data row23 col1\" >None</td>\n",
       "    </tr>\n",
       "    <tr>\n",
       "      <th id=\"T_765aa_level0_row24\" class=\"row_heading level0 row24\" >24</th>\n",
       "      <td id=\"T_765aa_row24_col0\" class=\"data row24 col0\" >Numeric Imputer</td>\n",
       "      <td id=\"T_765aa_row24_col1\" class=\"data row24 col1\" >mean</td>\n",
       "    </tr>\n",
       "    <tr>\n",
       "      <th id=\"T_765aa_level0_row25\" class=\"row_heading level0 row25\" >25</th>\n",
       "      <td id=\"T_765aa_row25_col0\" class=\"data row25 col0\" >Iterative Imputation Numeric Model</td>\n",
       "      <td id=\"T_765aa_row25_col1\" class=\"data row25 col1\" >None</td>\n",
       "    </tr>\n",
       "    <tr>\n",
       "      <th id=\"T_765aa_level0_row26\" class=\"row_heading level0 row26\" >26</th>\n",
       "      <td id=\"T_765aa_row26_col0\" class=\"data row26 col0\" >Categorical Imputer</td>\n",
       "      <td id=\"T_765aa_row26_col1\" class=\"data row26 col1\" >constant</td>\n",
       "    </tr>\n",
       "    <tr>\n",
       "      <th id=\"T_765aa_level0_row27\" class=\"row_heading level0 row27\" >27</th>\n",
       "      <td id=\"T_765aa_row27_col0\" class=\"data row27 col0\" >Iterative Imputation Categorical Model</td>\n",
       "      <td id=\"T_765aa_row27_col1\" class=\"data row27 col1\" >None</td>\n",
       "    </tr>\n",
       "    <tr>\n",
       "      <th id=\"T_765aa_level0_row28\" class=\"row_heading level0 row28\" >28</th>\n",
       "      <td id=\"T_765aa_row28_col0\" class=\"data row28 col0\" >Unknown Categoricals Handling</td>\n",
       "      <td id=\"T_765aa_row28_col1\" class=\"data row28 col1\" >least_frequent</td>\n",
       "    </tr>\n",
       "    <tr>\n",
       "      <th id=\"T_765aa_level0_row29\" class=\"row_heading level0 row29\" >29</th>\n",
       "      <td id=\"T_765aa_row29_col0\" class=\"data row29 col0\" >Normalize</td>\n",
       "      <td id=\"T_765aa_row29_col1\" class=\"data row29 col1\" >False</td>\n",
       "    </tr>\n",
       "    <tr>\n",
       "      <th id=\"T_765aa_level0_row30\" class=\"row_heading level0 row30\" >30</th>\n",
       "      <td id=\"T_765aa_row30_col0\" class=\"data row30 col0\" >Normalize Method</td>\n",
       "      <td id=\"T_765aa_row30_col1\" class=\"data row30 col1\" >None</td>\n",
       "    </tr>\n",
       "    <tr>\n",
       "      <th id=\"T_765aa_level0_row31\" class=\"row_heading level0 row31\" >31</th>\n",
       "      <td id=\"T_765aa_row31_col0\" class=\"data row31 col0\" >Transformation</td>\n",
       "      <td id=\"T_765aa_row31_col1\" class=\"data row31 col1\" >False</td>\n",
       "    </tr>\n",
       "    <tr>\n",
       "      <th id=\"T_765aa_level0_row32\" class=\"row_heading level0 row32\" >32</th>\n",
       "      <td id=\"T_765aa_row32_col0\" class=\"data row32 col0\" >Transformation Method</td>\n",
       "      <td id=\"T_765aa_row32_col1\" class=\"data row32 col1\" >None</td>\n",
       "    </tr>\n",
       "    <tr>\n",
       "      <th id=\"T_765aa_level0_row33\" class=\"row_heading level0 row33\" >33</th>\n",
       "      <td id=\"T_765aa_row33_col0\" class=\"data row33 col0\" >PCA</td>\n",
       "      <td id=\"T_765aa_row33_col1\" class=\"data row33 col1\" >False</td>\n",
       "    </tr>\n",
       "    <tr>\n",
       "      <th id=\"T_765aa_level0_row34\" class=\"row_heading level0 row34\" >34</th>\n",
       "      <td id=\"T_765aa_row34_col0\" class=\"data row34 col0\" >PCA Method</td>\n",
       "      <td id=\"T_765aa_row34_col1\" class=\"data row34 col1\" >None</td>\n",
       "    </tr>\n",
       "    <tr>\n",
       "      <th id=\"T_765aa_level0_row35\" class=\"row_heading level0 row35\" >35</th>\n",
       "      <td id=\"T_765aa_row35_col0\" class=\"data row35 col0\" >PCA Components</td>\n",
       "      <td id=\"T_765aa_row35_col1\" class=\"data row35 col1\" >None</td>\n",
       "    </tr>\n",
       "    <tr>\n",
       "      <th id=\"T_765aa_level0_row36\" class=\"row_heading level0 row36\" >36</th>\n",
       "      <td id=\"T_765aa_row36_col0\" class=\"data row36 col0\" >Ignore Low Variance</td>\n",
       "      <td id=\"T_765aa_row36_col1\" class=\"data row36 col1\" >False</td>\n",
       "    </tr>\n",
       "    <tr>\n",
       "      <th id=\"T_765aa_level0_row37\" class=\"row_heading level0 row37\" >37</th>\n",
       "      <td id=\"T_765aa_row37_col0\" class=\"data row37 col0\" >Combine Rare Levels</td>\n",
       "      <td id=\"T_765aa_row37_col1\" class=\"data row37 col1\" >False</td>\n",
       "    </tr>\n",
       "    <tr>\n",
       "      <th id=\"T_765aa_level0_row38\" class=\"row_heading level0 row38\" >38</th>\n",
       "      <td id=\"T_765aa_row38_col0\" class=\"data row38 col0\" >Rare Level Threshold</td>\n",
       "      <td id=\"T_765aa_row38_col1\" class=\"data row38 col1\" >None</td>\n",
       "    </tr>\n",
       "    <tr>\n",
       "      <th id=\"T_765aa_level0_row39\" class=\"row_heading level0 row39\" >39</th>\n",
       "      <td id=\"T_765aa_row39_col0\" class=\"data row39 col0\" >Numeric Binning</td>\n",
       "      <td id=\"T_765aa_row39_col1\" class=\"data row39 col1\" >False</td>\n",
       "    </tr>\n",
       "    <tr>\n",
       "      <th id=\"T_765aa_level0_row40\" class=\"row_heading level0 row40\" >40</th>\n",
       "      <td id=\"T_765aa_row40_col0\" class=\"data row40 col0\" >Remove Outliers</td>\n",
       "      <td id=\"T_765aa_row40_col1\" class=\"data row40 col1\" >False</td>\n",
       "    </tr>\n",
       "    <tr>\n",
       "      <th id=\"T_765aa_level0_row41\" class=\"row_heading level0 row41\" >41</th>\n",
       "      <td id=\"T_765aa_row41_col0\" class=\"data row41 col0\" >Outliers Threshold</td>\n",
       "      <td id=\"T_765aa_row41_col1\" class=\"data row41 col1\" >None</td>\n",
       "    </tr>\n",
       "    <tr>\n",
       "      <th id=\"T_765aa_level0_row42\" class=\"row_heading level0 row42\" >42</th>\n",
       "      <td id=\"T_765aa_row42_col0\" class=\"data row42 col0\" >Remove Multicollinearity</td>\n",
       "      <td id=\"T_765aa_row42_col1\" class=\"data row42 col1\" >False</td>\n",
       "    </tr>\n",
       "    <tr>\n",
       "      <th id=\"T_765aa_level0_row43\" class=\"row_heading level0 row43\" >43</th>\n",
       "      <td id=\"T_765aa_row43_col0\" class=\"data row43 col0\" >Multicollinearity Threshold</td>\n",
       "      <td id=\"T_765aa_row43_col1\" class=\"data row43 col1\" >None</td>\n",
       "    </tr>\n",
       "    <tr>\n",
       "      <th id=\"T_765aa_level0_row44\" class=\"row_heading level0 row44\" >44</th>\n",
       "      <td id=\"T_765aa_row44_col0\" class=\"data row44 col0\" >Remove Perfect Collinearity</td>\n",
       "      <td id=\"T_765aa_row44_col1\" class=\"data row44 col1\" >True</td>\n",
       "    </tr>\n",
       "    <tr>\n",
       "      <th id=\"T_765aa_level0_row45\" class=\"row_heading level0 row45\" >45</th>\n",
       "      <td id=\"T_765aa_row45_col0\" class=\"data row45 col0\" >Clustering</td>\n",
       "      <td id=\"T_765aa_row45_col1\" class=\"data row45 col1\" >False</td>\n",
       "    </tr>\n",
       "    <tr>\n",
       "      <th id=\"T_765aa_level0_row46\" class=\"row_heading level0 row46\" >46</th>\n",
       "      <td id=\"T_765aa_row46_col0\" class=\"data row46 col0\" >Clustering Iteration</td>\n",
       "      <td id=\"T_765aa_row46_col1\" class=\"data row46 col1\" >None</td>\n",
       "    </tr>\n",
       "    <tr>\n",
       "      <th id=\"T_765aa_level0_row47\" class=\"row_heading level0 row47\" >47</th>\n",
       "      <td id=\"T_765aa_row47_col0\" class=\"data row47 col0\" >Polynomial Features</td>\n",
       "      <td id=\"T_765aa_row47_col1\" class=\"data row47 col1\" >False</td>\n",
       "    </tr>\n",
       "    <tr>\n",
       "      <th id=\"T_765aa_level0_row48\" class=\"row_heading level0 row48\" >48</th>\n",
       "      <td id=\"T_765aa_row48_col0\" class=\"data row48 col0\" >Polynomial Degree</td>\n",
       "      <td id=\"T_765aa_row48_col1\" class=\"data row48 col1\" >None</td>\n",
       "    </tr>\n",
       "    <tr>\n",
       "      <th id=\"T_765aa_level0_row49\" class=\"row_heading level0 row49\" >49</th>\n",
       "      <td id=\"T_765aa_row49_col0\" class=\"data row49 col0\" >Trignometry Features</td>\n",
       "      <td id=\"T_765aa_row49_col1\" class=\"data row49 col1\" >False</td>\n",
       "    </tr>\n",
       "    <tr>\n",
       "      <th id=\"T_765aa_level0_row50\" class=\"row_heading level0 row50\" >50</th>\n",
       "      <td id=\"T_765aa_row50_col0\" class=\"data row50 col0\" >Polynomial Threshold</td>\n",
       "      <td id=\"T_765aa_row50_col1\" class=\"data row50 col1\" >None</td>\n",
       "    </tr>\n",
       "    <tr>\n",
       "      <th id=\"T_765aa_level0_row51\" class=\"row_heading level0 row51\" >51</th>\n",
       "      <td id=\"T_765aa_row51_col0\" class=\"data row51 col0\" >Group Features</td>\n",
       "      <td id=\"T_765aa_row51_col1\" class=\"data row51 col1\" >False</td>\n",
       "    </tr>\n",
       "    <tr>\n",
       "      <th id=\"T_765aa_level0_row52\" class=\"row_heading level0 row52\" >52</th>\n",
       "      <td id=\"T_765aa_row52_col0\" class=\"data row52 col0\" >Feature Selection</td>\n",
       "      <td id=\"T_765aa_row52_col1\" class=\"data row52 col1\" >False</td>\n",
       "    </tr>\n",
       "    <tr>\n",
       "      <th id=\"T_765aa_level0_row53\" class=\"row_heading level0 row53\" >53</th>\n",
       "      <td id=\"T_765aa_row53_col0\" class=\"data row53 col0\" >Feature Selection Method</td>\n",
       "      <td id=\"T_765aa_row53_col1\" class=\"data row53 col1\" >classic</td>\n",
       "    </tr>\n",
       "    <tr>\n",
       "      <th id=\"T_765aa_level0_row54\" class=\"row_heading level0 row54\" >54</th>\n",
       "      <td id=\"T_765aa_row54_col0\" class=\"data row54 col0\" >Features Selection Threshold</td>\n",
       "      <td id=\"T_765aa_row54_col1\" class=\"data row54 col1\" >None</td>\n",
       "    </tr>\n",
       "    <tr>\n",
       "      <th id=\"T_765aa_level0_row55\" class=\"row_heading level0 row55\" >55</th>\n",
       "      <td id=\"T_765aa_row55_col0\" class=\"data row55 col0\" >Feature Interaction</td>\n",
       "      <td id=\"T_765aa_row55_col1\" class=\"data row55 col1\" >False</td>\n",
       "    </tr>\n",
       "    <tr>\n",
       "      <th id=\"T_765aa_level0_row56\" class=\"row_heading level0 row56\" >56</th>\n",
       "      <td id=\"T_765aa_row56_col0\" class=\"data row56 col0\" >Feature Ratio</td>\n",
       "      <td id=\"T_765aa_row56_col1\" class=\"data row56 col1\" >False</td>\n",
       "    </tr>\n",
       "    <tr>\n",
       "      <th id=\"T_765aa_level0_row57\" class=\"row_heading level0 row57\" >57</th>\n",
       "      <td id=\"T_765aa_row57_col0\" class=\"data row57 col0\" >Interaction Threshold</td>\n",
       "      <td id=\"T_765aa_row57_col1\" class=\"data row57 col1\" >None</td>\n",
       "    </tr>\n",
       "    <tr>\n",
       "      <th id=\"T_765aa_level0_row58\" class=\"row_heading level0 row58\" >58</th>\n",
       "      <td id=\"T_765aa_row58_col0\" class=\"data row58 col0\" >Fix Imbalance</td>\n",
       "      <td id=\"T_765aa_row58_col1\" class=\"data row58 col1\" >False</td>\n",
       "    </tr>\n",
       "    <tr>\n",
       "      <th id=\"T_765aa_level0_row59\" class=\"row_heading level0 row59\" >59</th>\n",
       "      <td id=\"T_765aa_row59_col0\" class=\"data row59 col0\" >Fix Imbalance Method</td>\n",
       "      <td id=\"T_765aa_row59_col1\" class=\"data row59 col1\" >SMOTE</td>\n",
       "    </tr>\n",
       "  </tbody>\n",
       "</table>\n"
      ],
      "text/plain": [
       "<pandas.io.formats.style.Styler at 0x1fa8536cec8>"
      ]
     },
     "metadata": {},
     "output_type": "display_data"
    }
   ],
   "source": [
    "setup_var = setup(data=train1, target='Transported')"
   ]
  },
  {
   "cell_type": "code",
   "execution_count": 82,
   "metadata": {},
   "outputs": [
    {
     "data": {
      "text/html": [
       "<style type=\"text/css\">\n",
       "#T_81af4_ th {\n",
       "  text-align: left;\n",
       "}\n",
       "#T_81af4_row0_col0, #T_81af4_row0_col3, #T_81af4_row0_col4, #T_81af4_row0_col5, #T_81af4_row1_col0, #T_81af4_row1_col1, #T_81af4_row1_col2, #T_81af4_row1_col3, #T_81af4_row1_col4, #T_81af4_row1_col6, #T_81af4_row1_col7, #T_81af4_row2_col0, #T_81af4_row2_col1, #T_81af4_row2_col2, #T_81af4_row2_col3, #T_81af4_row2_col4, #T_81af4_row2_col5, #T_81af4_row2_col6, #T_81af4_row2_col7, #T_81af4_row3_col0, #T_81af4_row3_col1, #T_81af4_row3_col2, #T_81af4_row3_col3, #T_81af4_row3_col4, #T_81af4_row3_col5, #T_81af4_row3_col6, #T_81af4_row3_col7, #T_81af4_row4_col0, #T_81af4_row4_col1, #T_81af4_row4_col2, #T_81af4_row4_col3, #T_81af4_row4_col5, #T_81af4_row4_col6, #T_81af4_row4_col7, #T_81af4_row5_col0, #T_81af4_row5_col1, #T_81af4_row5_col2, #T_81af4_row5_col3, #T_81af4_row5_col4, #T_81af4_row5_col5, #T_81af4_row5_col6, #T_81af4_row5_col7, #T_81af4_row6_col0, #T_81af4_row6_col1, #T_81af4_row6_col2, #T_81af4_row6_col3, #T_81af4_row6_col4, #T_81af4_row6_col5, #T_81af4_row6_col6, #T_81af4_row6_col7, #T_81af4_row7_col0, #T_81af4_row7_col1, #T_81af4_row7_col2, #T_81af4_row7_col3, #T_81af4_row7_col4, #T_81af4_row7_col5, #T_81af4_row7_col6, #T_81af4_row7_col7, #T_81af4_row8_col0, #T_81af4_row8_col1, #T_81af4_row8_col2, #T_81af4_row8_col3, #T_81af4_row8_col4, #T_81af4_row8_col5, #T_81af4_row8_col6, #T_81af4_row8_col7, #T_81af4_row9_col0, #T_81af4_row9_col1, #T_81af4_row9_col2, #T_81af4_row9_col3, #T_81af4_row9_col4, #T_81af4_row9_col5, #T_81af4_row9_col6, #T_81af4_row9_col7, #T_81af4_row10_col0, #T_81af4_row10_col1, #T_81af4_row10_col2, #T_81af4_row10_col3, #T_81af4_row10_col4, #T_81af4_row10_col5, #T_81af4_row10_col6, #T_81af4_row10_col7, #T_81af4_row11_col0, #T_81af4_row11_col1, #T_81af4_row11_col2, #T_81af4_row11_col4, #T_81af4_row11_col5, #T_81af4_row11_col6, #T_81af4_row11_col7, #T_81af4_row12_col0, #T_81af4_row12_col1, #T_81af4_row12_col2, #T_81af4_row12_col3, #T_81af4_row12_col4, #T_81af4_row12_col5, #T_81af4_row12_col6, #T_81af4_row12_col7, #T_81af4_row13_col0, #T_81af4_row13_col1, #T_81af4_row13_col2, #T_81af4_row13_col3, #T_81af4_row13_col4, #T_81af4_row13_col5, #T_81af4_row13_col6, #T_81af4_row13_col7 {\n",
       "  text-align: left;\n",
       "}\n",
       "#T_81af4_row0_col1, #T_81af4_row0_col2, #T_81af4_row0_col6, #T_81af4_row0_col7, #T_81af4_row1_col5, #T_81af4_row4_col4, #T_81af4_row11_col3 {\n",
       "  text-align: left;\n",
       "  background-color: yellow;\n",
       "}\n",
       "#T_81af4_row0_col8, #T_81af4_row1_col8, #T_81af4_row2_col8, #T_81af4_row3_col8, #T_81af4_row4_col8, #T_81af4_row5_col8, #T_81af4_row6_col8, #T_81af4_row7_col8, #T_81af4_row8_col8, #T_81af4_row9_col8, #T_81af4_row10_col8, #T_81af4_row11_col8, #T_81af4_row12_col8 {\n",
       "  text-align: left;\n",
       "  background-color: lightgrey;\n",
       "}\n",
       "#T_81af4_row13_col8 {\n",
       "  text-align: left;\n",
       "  background-color: yellow;\n",
       "  background-color: lightgrey;\n",
       "}\n",
       "</style>\n",
       "<table id=\"T_81af4_\">\n",
       "  <thead>\n",
       "    <tr>\n",
       "      <th class=\"blank level0\" >&nbsp;</th>\n",
       "      <th class=\"col_heading level0 col0\" >Model</th>\n",
       "      <th class=\"col_heading level0 col1\" >Accuracy</th>\n",
       "      <th class=\"col_heading level0 col2\" >AUC</th>\n",
       "      <th class=\"col_heading level0 col3\" >Recall</th>\n",
       "      <th class=\"col_heading level0 col4\" >Prec.</th>\n",
       "      <th class=\"col_heading level0 col5\" >F1</th>\n",
       "      <th class=\"col_heading level0 col6\" >Kappa</th>\n",
       "      <th class=\"col_heading level0 col7\" >MCC</th>\n",
       "      <th class=\"col_heading level0 col8\" >TT (Sec)</th>\n",
       "    </tr>\n",
       "  </thead>\n",
       "  <tbody>\n",
       "    <tr>\n",
       "      <th id=\"T_81af4_level0_row0\" class=\"row_heading level0 row0\" >lightgbm</th>\n",
       "      <td id=\"T_81af4_row0_col0\" class=\"data row0 col0\" >Light Gradient Boosting Machine</td>\n",
       "      <td id=\"T_81af4_row0_col1\" class=\"data row0 col1\" >0.8046</td>\n",
       "      <td id=\"T_81af4_row0_col2\" class=\"data row0 col2\" >0.8961</td>\n",
       "      <td id=\"T_81af4_row0_col3\" class=\"data row0 col3\" >0.7926</td>\n",
       "      <td id=\"T_81af4_row0_col4\" class=\"data row0 col4\" >0.8122</td>\n",
       "      <td id=\"T_81af4_row0_col5\" class=\"data row0 col5\" >0.8019</td>\n",
       "      <td id=\"T_81af4_row0_col6\" class=\"data row0 col6\" >0.6092</td>\n",
       "      <td id=\"T_81af4_row0_col7\" class=\"data row0 col7\" >0.6098</td>\n",
       "      <td id=\"T_81af4_row0_col8\" class=\"data row0 col8\" >0.0750</td>\n",
       "    </tr>\n",
       "    <tr>\n",
       "      <th id=\"T_81af4_level0_row1\" class=\"row_heading level0 row1\" >gbc</th>\n",
       "      <td id=\"T_81af4_row1_col0\" class=\"data row1 col0\" >Gradient Boosting Classifier</td>\n",
       "      <td id=\"T_81af4_row1_col1\" class=\"data row1 col1\" >0.7997</td>\n",
       "      <td id=\"T_81af4_row1_col2\" class=\"data row1 col2\" >0.8942</td>\n",
       "      <td id=\"T_81af4_row1_col3\" class=\"data row1 col3\" >0.8236</td>\n",
       "      <td id=\"T_81af4_row1_col4\" class=\"data row1 col4\" >0.7860</td>\n",
       "      <td id=\"T_81af4_row1_col5\" class=\"data row1 col5\" >0.8042</td>\n",
       "      <td id=\"T_81af4_row1_col6\" class=\"data row1 col6\" >0.5994</td>\n",
       "      <td id=\"T_81af4_row1_col7\" class=\"data row1 col7\" >0.6004</td>\n",
       "      <td id=\"T_81af4_row1_col8\" class=\"data row1 col8\" >0.3290</td>\n",
       "    </tr>\n",
       "    <tr>\n",
       "      <th id=\"T_81af4_level0_row2\" class=\"row_heading level0 row2\" >rf</th>\n",
       "      <td id=\"T_81af4_row2_col0\" class=\"data row2 col0\" >Random Forest Classifier</td>\n",
       "      <td id=\"T_81af4_row2_col1\" class=\"data row2 col1\" >0.7926</td>\n",
       "      <td id=\"T_81af4_row2_col2\" class=\"data row2 col2\" >0.8775</td>\n",
       "      <td id=\"T_81af4_row2_col3\" class=\"data row2 col3\" >0.7479</td>\n",
       "      <td id=\"T_81af4_row2_col4\" class=\"data row2 col4\" >0.8211</td>\n",
       "      <td id=\"T_81af4_row2_col5\" class=\"data row2 col5\" >0.7826</td>\n",
       "      <td id=\"T_81af4_row2_col6\" class=\"data row2 col6\" >0.5852</td>\n",
       "      <td id=\"T_81af4_row2_col7\" class=\"data row2 col7\" >0.5878</td>\n",
       "      <td id=\"T_81af4_row2_col8\" class=\"data row2 col8\" >0.3410</td>\n",
       "    </tr>\n",
       "    <tr>\n",
       "      <th id=\"T_81af4_level0_row3\" class=\"row_heading level0 row3\" >ada</th>\n",
       "      <td id=\"T_81af4_row3_col0\" class=\"data row3 col0\" >Ada Boost Classifier</td>\n",
       "      <td id=\"T_81af4_row3_col1\" class=\"data row3 col1\" >0.7911</td>\n",
       "      <td id=\"T_81af4_row3_col2\" class=\"data row3 col2\" >0.8796</td>\n",
       "      <td id=\"T_81af4_row3_col3\" class=\"data row3 col3\" >0.8190</td>\n",
       "      <td id=\"T_81af4_row3_col4\" class=\"data row3 col4\" >0.7757</td>\n",
       "      <td id=\"T_81af4_row3_col5\" class=\"data row3 col5\" >0.7964</td>\n",
       "      <td id=\"T_81af4_row3_col6\" class=\"data row3 col6\" >0.5823</td>\n",
       "      <td id=\"T_81af4_row3_col7\" class=\"data row3 col7\" >0.5838</td>\n",
       "      <td id=\"T_81af4_row3_col8\" class=\"data row3 col8\" >0.1120</td>\n",
       "    </tr>\n",
       "    <tr>\n",
       "      <th id=\"T_81af4_level0_row4\" class=\"row_heading level0 row4\" >et</th>\n",
       "      <td id=\"T_81af4_row4_col0\" class=\"data row4 col0\" >Extra Trees Classifier</td>\n",
       "      <td id=\"T_81af4_row4_col1\" class=\"data row4 col1\" >0.7849</td>\n",
       "      <td id=\"T_81af4_row4_col2\" class=\"data row4 col2\" >0.8577</td>\n",
       "      <td id=\"T_81af4_row4_col3\" class=\"data row4 col3\" >0.7242</td>\n",
       "      <td id=\"T_81af4_row4_col4\" class=\"data row4 col4\" >0.8238</td>\n",
       "      <td id=\"T_81af4_row4_col5\" class=\"data row4 col5\" >0.7706</td>\n",
       "      <td id=\"T_81af4_row4_col6\" class=\"data row4 col6\" >0.5697</td>\n",
       "      <td id=\"T_81af4_row4_col7\" class=\"data row4 col7\" >0.5741</td>\n",
       "      <td id=\"T_81af4_row4_col8\" class=\"data row4 col8\" >0.3080</td>\n",
       "    </tr>\n",
       "    <tr>\n",
       "      <th id=\"T_81af4_level0_row5\" class=\"row_heading level0 row5\" >ridge</th>\n",
       "      <td id=\"T_81af4_row5_col0\" class=\"data row5 col0\" >Ridge Classifier</td>\n",
       "      <td id=\"T_81af4_row5_col1\" class=\"data row5 col1\" >0.7722</td>\n",
       "      <td id=\"T_81af4_row5_col2\" class=\"data row5 col2\" >0.0000</td>\n",
       "      <td id=\"T_81af4_row5_col3\" class=\"data row5 col3\" >0.7712</td>\n",
       "      <td id=\"T_81af4_row5_col4\" class=\"data row5 col4\" >0.7725</td>\n",
       "      <td id=\"T_81af4_row5_col5\" class=\"data row5 col5\" >0.7717</td>\n",
       "      <td id=\"T_81af4_row5_col6\" class=\"data row5 col6\" >0.5445</td>\n",
       "      <td id=\"T_81af4_row5_col7\" class=\"data row5 col7\" >0.5447</td>\n",
       "      <td id=\"T_81af4_row5_col8\" class=\"data row5 col8\" >0.0100</td>\n",
       "    </tr>\n",
       "    <tr>\n",
       "      <th id=\"T_81af4_level0_row6\" class=\"row_heading level0 row6\" >lda</th>\n",
       "      <td id=\"T_81af4_row6_col0\" class=\"data row6 col0\" >Linear Discriminant Analysis</td>\n",
       "      <td id=\"T_81af4_row6_col1\" class=\"data row6 col1\" >0.7722</td>\n",
       "      <td id=\"T_81af4_row6_col2\" class=\"data row6 col2\" >0.8465</td>\n",
       "      <td id=\"T_81af4_row6_col3\" class=\"data row6 col3\" >0.7716</td>\n",
       "      <td id=\"T_81af4_row6_col4\" class=\"data row6 col4\" >0.7723</td>\n",
       "      <td id=\"T_81af4_row6_col5\" class=\"data row6 col5\" >0.7718</td>\n",
       "      <td id=\"T_81af4_row6_col6\" class=\"data row6 col6\" >0.5445</td>\n",
       "      <td id=\"T_81af4_row6_col7\" class=\"data row6 col7\" >0.5447</td>\n",
       "      <td id=\"T_81af4_row6_col8\" class=\"data row6 col8\" >0.0160</td>\n",
       "    </tr>\n",
       "    <tr>\n",
       "      <th id=\"T_81af4_level0_row7\" class=\"row_heading level0 row7\" >lr</th>\n",
       "      <td id=\"T_81af4_row7_col0\" class=\"data row7 col0\" >Logistic Regression</td>\n",
       "      <td id=\"T_81af4_row7_col1\" class=\"data row7 col1\" >0.7709</td>\n",
       "      <td id=\"T_81af4_row7_col2\" class=\"data row7 col2\" >0.8471</td>\n",
       "      <td id=\"T_81af4_row7_col3\" class=\"data row7 col3\" >0.7762</td>\n",
       "      <td id=\"T_81af4_row7_col4\" class=\"data row7 col4\" >0.7678</td>\n",
       "      <td id=\"T_81af4_row7_col5\" class=\"data row7 col5\" >0.7718</td>\n",
       "      <td id=\"T_81af4_row7_col6\" class=\"data row7 col6\" >0.5418</td>\n",
       "      <td id=\"T_81af4_row7_col7\" class=\"data row7 col7\" >0.5421</td>\n",
       "      <td id=\"T_81af4_row7_col8\" class=\"data row7 col8\" >0.7760</td>\n",
       "    </tr>\n",
       "    <tr>\n",
       "      <th id=\"T_81af4_level0_row8\" class=\"row_heading level0 row8\" >svm</th>\n",
       "      <td id=\"T_81af4_row8_col0\" class=\"data row8 col0\" >SVM - Linear Kernel</td>\n",
       "      <td id=\"T_81af4_row8_col1\" class=\"data row8 col1\" >0.7568</td>\n",
       "      <td id=\"T_81af4_row8_col2\" class=\"data row8 col2\" >0.0000</td>\n",
       "      <td id=\"T_81af4_row8_col3\" class=\"data row8 col3\" >0.7817</td>\n",
       "      <td id=\"T_81af4_row8_col4\" class=\"data row8 col4\" >0.7476</td>\n",
       "      <td id=\"T_81af4_row8_col5\" class=\"data row8 col5\" >0.7620</td>\n",
       "      <td id=\"T_81af4_row8_col6\" class=\"data row8 col6\" >0.5136</td>\n",
       "      <td id=\"T_81af4_row8_col7\" class=\"data row8 col7\" >0.5182</td>\n",
       "      <td id=\"T_81af4_row8_col8\" class=\"data row8 col8\" >0.0260</td>\n",
       "    </tr>\n",
       "    <tr>\n",
       "      <th id=\"T_81af4_level0_row9\" class=\"row_heading level0 row9\" >knn</th>\n",
       "      <td id=\"T_81af4_row9_col0\" class=\"data row9 col0\" >K Neighbors Classifier</td>\n",
       "      <td id=\"T_81af4_row9_col1\" class=\"data row9 col1\" >0.7512</td>\n",
       "      <td id=\"T_81af4_row9_col2\" class=\"data row9 col2\" >0.8238</td>\n",
       "      <td id=\"T_81af4_row9_col3\" class=\"data row9 col3\" >0.7192</td>\n",
       "      <td id=\"T_81af4_row9_col4\" class=\"data row9 col4\" >0.7679</td>\n",
       "      <td id=\"T_81af4_row9_col5\" class=\"data row9 col5\" >0.7425</td>\n",
       "      <td id=\"T_81af4_row9_col6\" class=\"data row9 col6\" >0.5023</td>\n",
       "      <td id=\"T_81af4_row9_col7\" class=\"data row9 col7\" >0.5036</td>\n",
       "      <td id=\"T_81af4_row9_col8\" class=\"data row9 col8\" >0.0970</td>\n",
       "    </tr>\n",
       "    <tr>\n",
       "      <th id=\"T_81af4_level0_row10\" class=\"row_heading level0 row10\" >dt</th>\n",
       "      <td id=\"T_81af4_row10_col0\" class=\"data row10 col0\" >Decision Tree Classifier</td>\n",
       "      <td id=\"T_81af4_row10_col1\" class=\"data row10 col1\" >0.7361</td>\n",
       "      <td id=\"T_81af4_row10_col2\" class=\"data row10 col2\" >0.7361</td>\n",
       "      <td id=\"T_81af4_row10_col3\" class=\"data row10 col3\" >0.7360</td>\n",
       "      <td id=\"T_81af4_row10_col4\" class=\"data row10 col4\" >0.7359</td>\n",
       "      <td id=\"T_81af4_row10_col5\" class=\"data row10 col5\" >0.7358</td>\n",
       "      <td id=\"T_81af4_row10_col6\" class=\"data row10 col6\" >0.4722</td>\n",
       "      <td id=\"T_81af4_row10_col7\" class=\"data row10 col7\" >0.4724</td>\n",
       "      <td id=\"T_81af4_row10_col8\" class=\"data row10 col8\" >0.0190</td>\n",
       "    </tr>\n",
       "    <tr>\n",
       "      <th id=\"T_81af4_level0_row11\" class=\"row_heading level0 row11\" >nb</th>\n",
       "      <td id=\"T_81af4_row11_col0\" class=\"data row11 col0\" >Naive Bayes</td>\n",
       "      <td id=\"T_81af4_row11_col1\" class=\"data row11 col1\" >0.5791</td>\n",
       "      <td id=\"T_81af4_row11_col2\" class=\"data row11 col2\" >0.8050</td>\n",
       "      <td id=\"T_81af4_row11_col3\" class=\"data row11 col3\" >0.9602</td>\n",
       "      <td id=\"T_81af4_row11_col4\" class=\"data row11 col4\" >0.5446</td>\n",
       "      <td id=\"T_81af4_row11_col5\" class=\"data row11 col5\" >0.6949</td>\n",
       "      <td id=\"T_81af4_row11_col6\" class=\"data row11 col6\" >0.1592</td>\n",
       "      <td id=\"T_81af4_row11_col7\" class=\"data row11 col7\" >0.2460</td>\n",
       "      <td id=\"T_81af4_row11_col8\" class=\"data row11 col8\" >0.0120</td>\n",
       "    </tr>\n",
       "    <tr>\n",
       "      <th id=\"T_81af4_level0_row12\" class=\"row_heading level0 row12\" >qda</th>\n",
       "      <td id=\"T_81af4_row12_col0\" class=\"data row12 col0\" >Quadratic Discriminant Analysis</td>\n",
       "      <td id=\"T_81af4_row12_col1\" class=\"data row12 col1\" >0.5214</td>\n",
       "      <td id=\"T_81af4_row12_col2\" class=\"data row12 col2\" >0.6398</td>\n",
       "      <td id=\"T_81af4_row12_col3\" class=\"data row12 col3\" >0.6603</td>\n",
       "      <td id=\"T_81af4_row12_col4\" class=\"data row12 col4\" >0.5196</td>\n",
       "      <td id=\"T_81af4_row12_col5\" class=\"data row12 col5\" >0.5521</td>\n",
       "      <td id=\"T_81af4_row12_col6\" class=\"data row12 col6\" >0.0431</td>\n",
       "      <td id=\"T_81af4_row12_col7\" class=\"data row12 col7\" >0.0603</td>\n",
       "      <td id=\"T_81af4_row12_col8\" class=\"data row12 col8\" >0.0160</td>\n",
       "    </tr>\n",
       "    <tr>\n",
       "      <th id=\"T_81af4_level0_row13\" class=\"row_heading level0 row13\" >dummy</th>\n",
       "      <td id=\"T_81af4_row13_col0\" class=\"data row13 col0\" >Dummy Classifier</td>\n",
       "      <td id=\"T_81af4_row13_col1\" class=\"data row13 col1\" >0.5007</td>\n",
       "      <td id=\"T_81af4_row13_col2\" class=\"data row13 col2\" >0.5000</td>\n",
       "      <td id=\"T_81af4_row13_col3\" class=\"data row13 col3\" >0.0000</td>\n",
       "      <td id=\"T_81af4_row13_col4\" class=\"data row13 col4\" >0.0000</td>\n",
       "      <td id=\"T_81af4_row13_col5\" class=\"data row13 col5\" >0.0000</td>\n",
       "      <td id=\"T_81af4_row13_col6\" class=\"data row13 col6\" >0.0000</td>\n",
       "      <td id=\"T_81af4_row13_col7\" class=\"data row13 col7\" >0.0000</td>\n",
       "      <td id=\"T_81af4_row13_col8\" class=\"data row13 col8\" >0.0090</td>\n",
       "    </tr>\n",
       "  </tbody>\n",
       "</table>\n"
      ],
      "text/plain": [
       "<pandas.io.formats.style.Styler at 0x1fa834e3c08>"
      ]
     },
     "metadata": {},
     "output_type": "display_data"
    }
   ],
   "source": [
    "models = compare_models(n_select=5)"
   ]
  },
  {
   "cell_type": "markdown",
   "metadata": {},
   "source": [
    "## Baseline Model"
   ]
  },
  {
   "cell_type": "code",
   "execution_count": 99,
   "metadata": {},
   "outputs": [],
   "source": [
    "baseline_model = LGBMClassifier()"
   ]
  },
  {
   "cell_type": "code",
   "execution_count": 100,
   "metadata": {},
   "outputs": [
    {
     "data": {
      "text/plain": [
       "LGBMClassifier(boosting_type='gbdt', class_weight=None, colsample_bytree=1.0,\n",
       "               importance_type='split', learning_rate=0.1, max_depth=-1,\n",
       "               min_child_samples=20, min_child_weight=0.001, min_split_gain=0.0,\n",
       "               n_estimators=100, n_jobs=-1, num_leaves=31, objective=None,\n",
       "               random_state=None, reg_alpha=0.0, reg_lambda=0.0, silent='warn',\n",
       "               subsample=1.0, subsample_for_bin=200000, subsample_freq=0)"
      ]
     },
     "execution_count": 100,
     "metadata": {},
     "output_type": "execute_result"
    }
   ],
   "source": [
    "baseline_model.fit(train1.drop('Transported', axis=1), train1['Transported'])"
   ]
  },
  {
   "cell_type": "code",
   "execution_count": 101,
   "metadata": {},
   "outputs": [],
   "source": [
    "predictions = baseline_model.predict(test1)"
   ]
  },
  {
   "cell_type": "code",
   "execution_count": 102,
   "metadata": {},
   "outputs": [
    {
     "data": {
      "text/plain": [
       "array([ True, False,  True, ...,  True, False,  True])"
      ]
     },
     "execution_count": 102,
     "metadata": {},
     "output_type": "execute_result"
    }
   ],
   "source": [
    "predictions"
   ]
  },
  {
   "cell_type": "markdown",
   "metadata": {},
   "source": [
    "## Ensembling"
   ]
  },
  {
   "cell_type": "code",
   "execution_count": 108,
   "metadata": {},
   "outputs": [],
   "source": [
    "predictions = {}"
   ]
  },
  {
   "cell_type": "code",
   "execution_count": 106,
   "metadata": {},
   "outputs": [],
   "source": [
    "models = {\n",
    "    'lightbgm': LGBMClassifier(),\n",
    "    'gbc': GradientBoostingClassifier(),\n",
    "    'rf': RandomForestClassifier(),\n",
    "    'ada': AdaBoostClassifier(),\n",
    "    'et': ExtraTreesClassifier()\n",
    "}"
   ]
  },
  {
   "cell_type": "code",
   "execution_count": 109,
   "metadata": {},
   "outputs": [],
   "source": [
    "for name, model in models.items():\n",
    "    model.fit(train1.drop('Transported', axis=1), train1['Transported'])\n",
    "    predictions[name] = model.predict(test1)"
   ]
  },
  {
   "cell_type": "code",
   "execution_count": 119,
   "metadata": {},
   "outputs": [],
   "source": [
    "final_pred = []\n",
    "for i in range(0, 4277):\n",
    "    a = 0\n",
    "    for name, model in models.items():\n",
    "        if predictions[name][i] == True:\n",
    "            a += 1\n",
    "    \n",
    "    if a >= 3:\n",
    "        final_pred.append(True)\n",
    "    else:\n",
    "        final_pred.append(False)"
   ]
  },
  {
   "cell_type": "code",
   "execution_count": 121,
   "metadata": {},
   "outputs": [
    {
     "data": {
      "text/plain": [
       "4277"
      ]
     },
     "execution_count": 121,
     "metadata": {},
     "output_type": "execute_result"
    }
   ],
   "source": [
    "len(final_pred)"
   ]
  },
  {
   "cell_type": "markdown",
   "metadata": {},
   "source": [
    "## Submission"
   ]
  },
  {
   "cell_type": "code",
   "execution_count": 125,
   "metadata": {},
   "outputs": [],
   "source": [
    "submission = pd.Series(final_pred, index=test0['PassengerId'], name='Transported', dtype=str)"
   ]
  },
  {
   "cell_type": "code",
   "execution_count": 126,
   "metadata": {},
   "outputs": [
    {
     "data": {
      "text/plain": [
       "PassengerId\n",
       "0013_01     True\n",
       "0018_01    False\n",
       "0019_01     True\n",
       "0021_01     True\n",
       "0023_01     True\n",
       "           ...  \n",
       "9266_02     True\n",
       "9269_01    False\n",
       "9271_01     True\n",
       "9273_01     True\n",
       "9277_01     True\n",
       "Name: Transported, Length: 4277, dtype: object"
      ]
     },
     "execution_count": 126,
     "metadata": {},
     "output_type": "execute_result"
    }
   ],
   "source": [
    "submission"
   ]
  },
  {
   "cell_type": "code",
   "execution_count": 127,
   "metadata": {},
   "outputs": [],
   "source": [
    "submission.to_csv('submission003.csv')"
   ]
  }
 ],
 "metadata": {
  "kernelspec": {
   "display_name": "Python 3.7.13",
   "language": "python",
   "name": "python3"
  },
  "language_info": {
   "codemirror_mode": {
    "name": "ipython",
    "version": 3
   },
   "file_extension": ".py",
   "mimetype": "text/x-python",
   "name": "python",
   "nbconvert_exporter": "python",
   "pygments_lexer": "ipython3",
   "version": "3.7.13"
  },
  "orig_nbformat": 4,
  "vscode": {
   "interpreter": {
    "hash": "ba7d5e52b95efc6b626a478d2d5a9c47c5136a5142b0573373bbae84b98cfe9c"
   }
  }
 },
 "nbformat": 4,
 "nbformat_minor": 2
}
